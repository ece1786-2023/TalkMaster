{
  "cells": [
    {
      "cell_type": "markdown",
      "metadata": {
        "id": "9d9IiN_txoQF"
      },
      "source": [
        "## Firstly install and import required libraries"
      ]
    },
    {
      "cell_type": "code",
      "execution_count": 1,
      "metadata": {
        "id": "CrZBu910heYH"
      },
      "outputs": [
        {
          "name": "stdout",
          "output_type": "stream",
          "text": [
            "Collecting langchain\n",
            "  Downloading langchain-0.0.344-py3-none-any.whl (1.9 MB)\n",
            "     ---------------------------------------- 0.0/1.9 MB ? eta -:--:--\n",
            "     ----- ---------------------------------- 0.3/1.9 MB 8.9 MB/s eta 0:00:01\n",
            "     ----- ---------------------------------- 0.3/1.9 MB 8.9 MB/s eta 0:00:01\n",
            "     --------- ------------------------------ 0.5/1.9 MB 3.3 MB/s eta 0:00:01\n",
            "     --------- ------------------------------ 0.5/1.9 MB 3.3 MB/s eta 0:00:01\n",
            "     ------------ --------------------------- 0.6/1.9 MB 2.6 MB/s eta 0:00:01\n",
            "     -------------------------- ------------- 1.3/1.9 MB 4.6 MB/s eta 0:00:01\n",
            "     ---------------------------------------  1.9/1.9 MB 5.8 MB/s eta 0:00:01\n",
            "     ---------------------------------------- 1.9/1.9 MB 5.4 MB/s eta 0:00:00\n",
            "Requirement already satisfied: pydantic<3,>=1 in c:\\users\\samme\\appdata\\local\\packages\\pythonsoftwarefoundation.python.3.10_qbz5n2kfra8p0\\localcache\\local-packages\\python310\\site-packages (from langchain) (1.10.4)\n",
            "Requirement already satisfied: PyYAML>=5.3 in c:\\users\\samme\\appdata\\local\\packages\\pythonsoftwarefoundation.python.3.10_qbz5n2kfra8p0\\localcache\\local-packages\\python310\\site-packages (from langchain) (6.0)\n",
            "Collecting tenacity<9.0.0,>=8.1.0\n",
            "  Downloading tenacity-8.2.3-py3-none-any.whl (24 kB)\n",
            "Collecting langsmith<0.1.0,>=0.0.63\n",
            "  Downloading langsmith-0.0.67-py3-none-any.whl (47 kB)\n",
            "     ---------------------------------------- 0.0/47.0 kB ? eta -:--:--\n",
            "     ---------------------------------------- 47.0/47.0 kB ? eta 0:00:00\n",
            "Requirement already satisfied: numpy<2,>=1 in c:\\users\\samme\\appdata\\local\\packages\\pythonsoftwarefoundation.python.3.10_qbz5n2kfra8p0\\localcache\\local-packages\\python310\\site-packages (from langchain) (1.24.2)\n",
            "Collecting langchain-core<0.1,>=0.0.8\n",
            "  Downloading langchain_core-0.0.8-py3-none-any.whl (177 kB)\n",
            "     ---------------------------------------- 0.0/177.6 kB ? eta -:--:--\n",
            "     ---------------------------------------- 177.6/177.6 kB ? eta 0:00:00\n",
            "Collecting jsonpatch<2.0,>=1.33\n",
            "  Downloading jsonpatch-1.33-py2.py3-none-any.whl (12 kB)\n",
            "Requirement already satisfied: aiohttp<4.0.0,>=3.8.3 in c:\\users\\samme\\appdata\\local\\packages\\pythonsoftwarefoundation.python.3.10_qbz5n2kfra8p0\\localcache\\local-packages\\python310\\site-packages (from langchain) (3.8.6)\n",
            "Collecting SQLAlchemy<3,>=1.4\n",
            "  Downloading SQLAlchemy-2.0.23-cp310-cp310-win_amd64.whl (2.1 MB)\n",
            "     ---------------------------------------- 0.0/2.1 MB ? eta -:--:--\n",
            "     ---------- ----------------------------- 0.5/2.1 MB 16.8 MB/s eta 0:00:01\n",
            "     -------------------- ------------------- 1.0/2.1 MB 13.3 MB/s eta 0:00:01\n",
            "     ------------------------- -------------- 1.3/2.1 MB 14.0 MB/s eta 0:00:01\n",
            "     ----------------------------- ---------- 1.5/2.1 MB 9.8 MB/s eta 0:00:01\n",
            "     ------------------------------------- -- 1.9/2.1 MB 10.2 MB/s eta 0:00:01\n",
            "     ---------------------------------------  2.1/2.1 MB 7.7 MB/s eta 0:00:01\n",
            "     ---------------------------------------- 2.1/2.1 MB 7.3 MB/s eta 0:00:00\n",
            "Collecting dataclasses-json<0.7,>=0.5.7\n",
            "  Downloading dataclasses_json-0.6.3-py3-none-any.whl (28 kB)\n",
            "Requirement already satisfied: anyio<4.0 in c:\\users\\samme\\appdata\\local\\packages\\pythonsoftwarefoundation.python.3.10_qbz5n2kfra8p0\\localcache\\local-packages\\python310\\site-packages (from langchain) (3.7.1)\n",
            "Requirement already satisfied: requests<3,>=2 in c:\\users\\samme\\appdata\\local\\packages\\pythonsoftwarefoundation.python.3.10_qbz5n2kfra8p0\\localcache\\local-packages\\python310\\site-packages (from langchain) (2.28.2)\n",
            "Requirement already satisfied: async-timeout<5.0.0,>=4.0.0 in c:\\users\\samme\\appdata\\local\\packages\\pythonsoftwarefoundation.python.3.10_qbz5n2kfra8p0\\localcache\\local-packages\\python310\\site-packages (from langchain) (4.0.3)\n",
            "Requirement already satisfied: frozenlist>=1.1.1 in c:\\users\\samme\\appdata\\local\\packages\\pythonsoftwarefoundation.python.3.10_qbz5n2kfra8p0\\localcache\\local-packages\\python310\\site-packages (from aiohttp<4.0.0,>=3.8.3->langchain) (1.4.0)\n",
            "Requirement already satisfied: multidict<7.0,>=4.5 in c:\\users\\samme\\appdata\\local\\packages\\pythonsoftwarefoundation.python.3.10_qbz5n2kfra8p0\\localcache\\local-packages\\python310\\site-packages (from aiohttp<4.0.0,>=3.8.3->langchain) (6.0.4)\n",
            "Requirement already satisfied: aiosignal>=1.1.2 in c:\\users\\samme\\appdata\\local\\packages\\pythonsoftwarefoundation.python.3.10_qbz5n2kfra8p0\\localcache\\local-packages\\python310\\site-packages (from aiohttp<4.0.0,>=3.8.3->langchain) (1.3.1)\n",
            "Requirement already satisfied: attrs>=17.3.0 in c:\\users\\samme\\appdata\\local\\packages\\pythonsoftwarefoundation.python.3.10_qbz5n2kfra8p0\\localcache\\local-packages\\python310\\site-packages (from aiohttp<4.0.0,>=3.8.3->langchain) (22.2.0)\n",
            "Requirement already satisfied: yarl<2.0,>=1.0 in c:\\users\\samme\\appdata\\local\\packages\\pythonsoftwarefoundation.python.3.10_qbz5n2kfra8p0\\localcache\\local-packages\\python310\\site-packages (from aiohttp<4.0.0,>=3.8.3->langchain) (1.9.2)\n",
            "Requirement already satisfied: charset-normalizer<4.0,>=2.0 in c:\\users\\samme\\appdata\\local\\packages\\pythonsoftwarefoundation.python.3.10_qbz5n2kfra8p0\\localcache\\local-packages\\python310\\site-packages (from aiohttp<4.0.0,>=3.8.3->langchain) (3.0.1)\n",
            "Requirement already satisfied: idna>=2.8 in c:\\users\\samme\\appdata\\local\\packages\\pythonsoftwarefoundation.python.3.10_qbz5n2kfra8p0\\localcache\\local-packages\\python310\\site-packages (from anyio<4.0->langchain) (2.10)\n",
            "Requirement already satisfied: sniffio>=1.1 in c:\\users\\samme\\appdata\\local\\packages\\pythonsoftwarefoundation.python.3.10_qbz5n2kfra8p0\\localcache\\local-packages\\python310\\site-packages (from anyio<4.0->langchain) (1.3.0)\n",
            "Requirement already satisfied: exceptiongroup in c:\\users\\samme\\appdata\\local\\packages\\pythonsoftwarefoundation.python.3.10_qbz5n2kfra8p0\\localcache\\local-packages\\python310\\site-packages (from anyio<4.0->langchain) (1.1.3)\n",
            "Collecting marshmallow<4.0.0,>=3.18.0\n",
            "  Downloading marshmallow-3.20.1-py3-none-any.whl (49 kB)\n",
            "     ---------------------------------------- 0.0/49.4 kB ? eta -:--:--\n",
            "     ---------------------------------------- 49.4/49.4 kB 2.6 MB/s eta 0:00:00\n",
            "Collecting typing-inspect<1,>=0.4.0\n",
            "  Downloading typing_inspect-0.9.0-py3-none-any.whl (8.8 kB)\n",
            "Collecting jsonpointer>=1.9\n",
            "  Downloading jsonpointer-2.4-py2.py3-none-any.whl (7.8 kB)\n",
            "Requirement already satisfied: typing-extensions>=4.2.0 in c:\\users\\samme\\appdata\\local\\packages\\pythonsoftwarefoundation.python.3.10_qbz5n2kfra8p0\\localcache\\local-packages\\python310\\site-packages (from pydantic<3,>=1->langchain) (4.8.0)\n",
            "Requirement already satisfied: urllib3<1.27,>=1.21.1 in c:\\users\\samme\\appdata\\local\\packages\\pythonsoftwarefoundation.python.3.10_qbz5n2kfra8p0\\localcache\\local-packages\\python310\\site-packages (from requests<3,>=2->langchain) (1.26.14)\n",
            "Requirement already satisfied: certifi>=2017.4.17 in c:\\users\\samme\\appdata\\local\\packages\\pythonsoftwarefoundation.python.3.10_qbz5n2kfra8p0\\localcache\\local-packages\\python310\\site-packages (from requests<3,>=2->langchain) (2022.12.7)\n",
            "Collecting greenlet!=0.4.17\n",
            "  Downloading greenlet-3.0.1-cp310-cp310-win_amd64.whl (287 kB)\n",
            "     ---------------------------------------- 0.0/287.9 kB ? eta -:--:--\n",
            "     ------------------------------------- 287.9/287.9 kB 18.5 MB/s eta 0:00:00\n",
            "Requirement already satisfied: packaging>=17.0 in c:\\users\\samme\\appdata\\local\\packages\\pythonsoftwarefoundation.python.3.10_qbz5n2kfra8p0\\localcache\\local-packages\\python310\\site-packages (from marshmallow<4.0.0,>=3.18.0->dataclasses-json<0.7,>=0.5.7->langchain) (23.0)\n",
            "Collecting mypy-extensions>=0.3.0\n",
            "  Downloading mypy_extensions-1.0.0-py3-none-any.whl (4.7 kB)\n",
            "Installing collected packages: tenacity, mypy-extensions, marshmallow, jsonpointer, greenlet, typing-inspect, SQLAlchemy, langsmith, jsonpatch, langchain-core, dataclasses-json, langchain\n",
            "Successfully installed SQLAlchemy-2.0.23 dataclasses-json-0.6.3 greenlet-3.0.1 jsonpatch-1.33 jsonpointer-2.4 langchain-0.0.344 langchain-core-0.0.8 langsmith-0.0.67 marshmallow-3.20.1 mypy-extensions-1.0.0 tenacity-8.2.3 typing-inspect-0.9.0\n"
          ]
        },
        {
          "name": "stderr",
          "output_type": "stream",
          "text": [
            "\n",
            "[notice] A new release of pip is available: 23.0 -> 23.3.1\n",
            "[notice] To update, run: C:\\Users\\samme\\AppData\\Local\\Microsoft\\WindowsApps\\PythonSoftwareFoundation.Python.3.10_qbz5n2kfra8p0\\python.exe -m pip install --upgrade pip\n"
          ]
        },
        {
          "name": "stdout",
          "output_type": "stream",
          "text": [
            "Requirement already satisfied: transformers in c:\\users\\samme\\appdata\\local\\packages\\pythonsoftwarefoundation.python.3.10_qbz5n2kfra8p0\\localcache\\local-packages\\python310\\site-packages (4.27.4)\n",
            "Requirement already satisfied: packaging>=20.0 in c:\\users\\samme\\appdata\\local\\packages\\pythonsoftwarefoundation.python.3.10_qbz5n2kfra8p0\\localcache\\local-packages\\python310\\site-packages (from transformers) (23.0)\n",
            "Requirement already satisfied: numpy>=1.17 in c:\\users\\samme\\appdata\\local\\packages\\pythonsoftwarefoundation.python.3.10_qbz5n2kfra8p0\\localcache\\local-packages\\python310\\site-packages (from transformers) (1.24.2)\n",
            "Requirement already satisfied: huggingface-hub<1.0,>=0.11.0 in c:\\users\\samme\\appdata\\local\\packages\\pythonsoftwarefoundation.python.3.10_qbz5n2kfra8p0\\localcache\\local-packages\\python310\\site-packages (from transformers) (0.17.3)\n",
            "Requirement already satisfied: pyyaml>=5.1 in c:\\users\\samme\\appdata\\local\\packages\\pythonsoftwarefoundation.python.3.10_qbz5n2kfra8p0\\localcache\\local-packages\\python310\\site-packages (from transformers) (6.0)\n",
            "Requirement already satisfied: tokenizers!=0.11.3,<0.14,>=0.11.1 in c:\\users\\samme\\appdata\\local\\packages\\pythonsoftwarefoundation.python.3.10_qbz5n2kfra8p0\\localcache\\local-packages\\python310\\site-packages (from transformers) (0.13.3)\n",
            "Requirement already satisfied: tqdm>=4.27 in c:\\users\\samme\\appdata\\local\\packages\\pythonsoftwarefoundation.python.3.10_qbz5n2kfra8p0\\localcache\\local-packages\\python310\\site-packages (from transformers) (4.64.1)\n",
            "Requirement already satisfied: filelock in c:\\users\\samme\\appdata\\local\\packages\\pythonsoftwarefoundation.python.3.10_qbz5n2kfra8p0\\localcache\\local-packages\\python310\\site-packages (from transformers) (3.10.7)\n",
            "Requirement already satisfied: requests in c:\\users\\samme\\appdata\\local\\packages\\pythonsoftwarefoundation.python.3.10_qbz5n2kfra8p0\\localcache\\local-packages\\python310\\site-packages (from transformers) (2.28.2)\n",
            "Requirement already satisfied: regex!=2019.12.17 in c:\\users\\samme\\appdata\\local\\packages\\pythonsoftwarefoundation.python.3.10_qbz5n2kfra8p0\\localcache\\local-packages\\python310\\site-packages (from transformers) (2023.3.23)\n",
            "Requirement already satisfied: fsspec in c:\\users\\samme\\appdata\\local\\packages\\pythonsoftwarefoundation.python.3.10_qbz5n2kfra8p0\\localcache\\local-packages\\python310\\site-packages (from huggingface-hub<1.0,>=0.11.0->transformers) (2023.6.0)\n",
            "Requirement already satisfied: typing-extensions>=3.7.4.3 in c:\\users\\samme\\appdata\\local\\packages\\pythonsoftwarefoundation.python.3.10_qbz5n2kfra8p0\\localcache\\local-packages\\python310\\site-packages (from huggingface-hub<1.0,>=0.11.0->transformers) (4.8.0)\n",
            "Requirement already satisfied: colorama in c:\\users\\samme\\appdata\\local\\packages\\pythonsoftwarefoundation.python.3.10_qbz5n2kfra8p0\\localcache\\local-packages\\python310\\site-packages (from tqdm>=4.27->transformers) (0.4.6)\n",
            "Requirement already satisfied: urllib3<1.27,>=1.21.1 in c:\\users\\samme\\appdata\\local\\packages\\pythonsoftwarefoundation.python.3.10_qbz5n2kfra8p0\\localcache\\local-packages\\python310\\site-packages (from requests->transformers) (1.26.14)\n",
            "Requirement already satisfied: charset-normalizer<4,>=2 in c:\\users\\samme\\appdata\\local\\packages\\pythonsoftwarefoundation.python.3.10_qbz5n2kfra8p0\\localcache\\local-packages\\python310\\site-packages (from requests->transformers) (3.0.1)\n",
            "Requirement already satisfied: idna<4,>=2.5 in c:\\users\\samme\\appdata\\local\\packages\\pythonsoftwarefoundation.python.3.10_qbz5n2kfra8p0\\localcache\\local-packages\\python310\\site-packages (from requests->transformers) (2.10)\n",
            "Requirement already satisfied: certifi>=2017.4.17 in c:\\users\\samme\\appdata\\local\\packages\\pythonsoftwarefoundation.python.3.10_qbz5n2kfra8p0\\localcache\\local-packages\\python310\\site-packages (from requests->transformers) (2022.12.7)\n"
          ]
        },
        {
          "name": "stderr",
          "output_type": "stream",
          "text": [
            "\n",
            "[notice] A new release of pip is available: 23.0 -> 23.3.1\n",
            "[notice] To update, run: C:\\Users\\samme\\AppData\\Local\\Microsoft\\WindowsApps\\PythonSoftwareFoundation.Python.3.10_qbz5n2kfra8p0\\python.exe -m pip install --upgrade pip\n"
          ]
        },
        {
          "name": "stdout",
          "output_type": "stream",
          "text": [
            "Collecting unstructured"
          ]
        },
        {
          "name": "stderr",
          "output_type": "stream",
          "text": [
            "\n",
            "[notice] A new release of pip is available: 23.0 -> 23.3.1\n",
            "[notice] To update, run: C:\\Users\\samme\\AppData\\Local\\Microsoft\\WindowsApps\\PythonSoftwareFoundation.Python.3.10_qbz5n2kfra8p0\\python.exe -m pip install --upgrade pip\n"
          ]
        },
        {
          "name": "stdout",
          "output_type": "stream",
          "text": [
            "\n",
            "  Downloading unstructured-0.11.2-py3-none-any.whl (1.7 MB)\n",
            "     ---------------------------------------- 0.0/1.7 MB ? eta -:--:--\n",
            "     ----- ---------------------------------- 0.2/1.7 MB 14.7 MB/s eta 0:00:01\n",
            "     ----- ---------------------------------- 0.2/1.7 MB 14.7 MB/s eta 0:00:01\n",
            "     ----------- ---------------------------- 0.5/1.7 MB 5.2 MB/s eta 0:00:01\n",
            "     ----------- ---------------------------- 0.5/1.7 MB 5.2 MB/s eta 0:00:01\n",
            "     ------------------------ --------------- 1.0/1.7 MB 4.7 MB/s eta 0:00:01\n",
            "     ------------------------------ --------- 1.3/1.7 MB 5.5 MB/s eta 0:00:01\n",
            "     ---------------------------------- ----- 1.5/1.7 MB 5.0 MB/s eta 0:00:01\n",
            "     ---------------------------------------- 1.7/1.7 MB 5.2 MB/s eta 0:00:00\n",
            "Requirement already satisfied: tabulate in c:\\users\\samme\\appdata\\local\\packages\\pythonsoftwarefoundation.python.3.10_qbz5n2kfra8p0\\localcache\\local-packages\\python310\\site-packages (from unstructured) (0.9.0)\n",
            "Requirement already satisfied: nltk in c:\\users\\samme\\appdata\\local\\packages\\pythonsoftwarefoundation.python.3.10_qbz5n2kfra8p0\\localcache\\local-packages\\python310\\site-packages (from unstructured) (3.8.1)\n",
            "Requirement already satisfied: dataclasses-json in c:\\users\\samme\\appdata\\local\\packages\\pythonsoftwarefoundation.python.3.10_qbz5n2kfra8p0\\localcache\\local-packages\\python310\\site-packages (from unstructured) (0.6.3)\n",
            "Collecting backoff\n",
            "  Downloading backoff-2.2.1-py3-none-any.whl (15 kB)\n",
            "Collecting lxml\n",
            "  Downloading lxml-4.9.3-cp310-cp310-win_amd64.whl (3.8 MB)\n",
            "     ---------------------------------------- 0.0/3.8 MB ? eta -:--:--\n",
            "     --------- ------------------------------ 0.9/3.8 MB 18.7 MB/s eta 0:00:01\n",
            "     ------------ --------------------------- 1.1/3.8 MB 18.0 MB/s eta 0:00:01\n",
            "     --------------------- ------------------ 2.0/3.8 MB 14.4 MB/s eta 0:00:01\n",
            "     ----------------------- ---------------- 2.2/3.8 MB 14.1 MB/s eta 0:00:01\n",
            "     --------------------------- ------------ 2.6/3.8 MB 11.9 MB/s eta 0:00:01\n",
            "     ---------------------------------------  3.8/3.8 MB 14.1 MB/s eta 0:00:01\n",
            "     ---------------------------------------- 3.8/3.8 MB 12.1 MB/s eta 0:00:00\n",
            "Requirement already satisfied: requests in c:\\users\\samme\\appdata\\local\\packages\\pythonsoftwarefoundation.python.3.10_qbz5n2kfra8p0\\localcache\\local-packages\\python310\\site-packages (from unstructured) (2.28.2)\n",
            "Requirement already satisfied: beautifulsoup4 in c:\\users\\samme\\appdata\\local\\packages\\pythonsoftwarefoundation.python.3.10_qbz5n2kfra8p0\\localcache\\local-packages\\python310\\site-packages (from unstructured) (4.11.2)\n",
            "Requirement already satisfied: typing-extensions in c:\\users\\samme\\appdata\\local\\packages\\pythonsoftwarefoundation.python.3.10_qbz5n2kfra8p0\\localcache\\local-packages\\python310\\site-packages (from unstructured) (4.8.0)\n",
            "Collecting python-iso639\n",
            "  Downloading python_iso639-2023.6.15-py3-none-any.whl (275 kB)\n",
            "     ---------------------------------------- 0.0/275.1 kB ? eta -:--:--\n",
            "     ------------------------------------- 275.1/275.1 kB 17.7 MB/s eta 0:00:00\n",
            "Collecting filetype\n",
            "  Downloading filetype-1.2.0-py2.py3-none-any.whl (19 kB)\n",
            "Collecting emoji\n",
            "  Downloading emoji-2.8.0-py2.py3-none-any.whl (358 kB)\n",
            "     ---------------------------------------- 0.0/358.9 kB ? eta -:--:--\n",
            "     ------------------------------------- 358.9/358.9 kB 23.2 MB/s eta 0:00:00\n",
            "Collecting rapidfuzz\n",
            "  Downloading rapidfuzz-3.5.2-cp310-cp310-win_amd64.whl (1.7 MB)\n",
            "     ---------------------------------------- 0.0/1.7 MB ? eta -:--:--\n",
            "     --------------- ------------------------ 0.7/1.7 MB 21.1 MB/s eta 0:00:01\n",
            "     --------------------- ------------------ 0.9/1.7 MB 11.8 MB/s eta 0:00:01\n",
            "     ---------------------------------------  1.7/1.7 MB 13.6 MB/s eta 0:00:01\n",
            "     ---------------------------------------- 1.7/1.7 MB 9.9 MB/s eta 0:00:00\n",
            "Collecting langdetect\n",
            "  Downloading langdetect-1.0.9.tar.gz (981 kB)\n",
            "     ---------------------------------------- 0.0/981.5 kB ? eta -:--:--\n",
            "     ------------------------------------  972.8/981.5 kB 31.1 MB/s eta 0:00:01\n",
            "     ------------------------------------- 981.5/981.5 kB 15.4 MB/s eta 0:00:00\n",
            "  Preparing metadata (setup.py): started\n",
            "  Preparing metadata (setup.py): finished with status 'done'\n",
            "Requirement already satisfied: chardet in c:\\users\\samme\\appdata\\local\\packages\\pythonsoftwarefoundation.python.3.10_qbz5n2kfra8p0\\localcache\\local-packages\\python310\\site-packages (from unstructured) (3.0.4)\n",
            "Collecting wrapt\n",
            "  Downloading wrapt-1.16.0-cp310-cp310-win_amd64.whl (37 kB)\n",
            "Collecting python-magic\n",
            "  Downloading python_magic-0.4.27-py2.py3-none-any.whl (13 kB)\n",
            "Requirement already satisfied: numpy in c:\\users\\samme\\appdata\\local\\packages\\pythonsoftwarefoundation.python.3.10_qbz5n2kfra8p0\\localcache\\local-packages\\python310\\site-packages (from unstructured) (1.24.2)\n",
            "Requirement already satisfied: soupsieve>1.2 in c:\\users\\samme\\appdata\\local\\packages\\pythonsoftwarefoundation.python.3.10_qbz5n2kfra8p0\\localcache\\local-packages\\python310\\site-packages (from beautifulsoup4->unstructured) (2.4)\n",
            "Requirement already satisfied: typing-inspect<1,>=0.4.0 in c:\\users\\samme\\appdata\\local\\packages\\pythonsoftwarefoundation.python.3.10_qbz5n2kfra8p0\\localcache\\local-packages\\python310\\site-packages (from dataclasses-json->unstructured) (0.9.0)\n",
            "Requirement already satisfied: marshmallow<4.0.0,>=3.18.0 in c:\\users\\samme\\appdata\\local\\packages\\pythonsoftwarefoundation.python.3.10_qbz5n2kfra8p0\\localcache\\local-packages\\python310\\site-packages (from dataclasses-json->unstructured) (3.20.1)\n",
            "Requirement already satisfied: six in c:\\users\\samme\\appdata\\local\\packages\\pythonsoftwarefoundation.python.3.10_qbz5n2kfra8p0\\localcache\\local-packages\\python310\\site-packages (from langdetect->unstructured) (1.16.0)\n",
            "Requirement already satisfied: click in c:\\users\\samme\\appdata\\local\\packages\\pythonsoftwarefoundation.python.3.10_qbz5n2kfra8p0\\localcache\\local-packages\\python310\\site-packages (from nltk->unstructured) (8.1.3)\n",
            "Requirement already satisfied: regex>=2021.8.3 in c:\\users\\samme\\appdata\\local\\packages\\pythonsoftwarefoundation.python.3.10_qbz5n2kfra8p0\\localcache\\local-packages\\python310\\site-packages (from nltk->unstructured) (2023.3.23)\n",
            "Requirement already satisfied: joblib in c:\\users\\samme\\appdata\\local\\packages\\pythonsoftwarefoundation.python.3.10_qbz5n2kfra8p0\\localcache\\local-packages\\python310\\site-packages (from nltk->unstructured) (1.2.0)\n",
            "Requirement already satisfied: tqdm in c:\\users\\samme\\appdata\\local\\packages\\pythonsoftwarefoundation.python.3.10_qbz5n2kfra8p0\\localcache\\local-packages\\python310\\site-packages (from nltk->unstructured) (4.64.1)\n",
            "Requirement already satisfied: charset-normalizer<4,>=2 in c:\\users\\samme\\appdata\\local\\packages\\pythonsoftwarefoundation.python.3.10_qbz5n2kfra8p0\\localcache\\local-packages\\python310\\site-packages (from requests->unstructured) (3.0.1)\n",
            "Requirement already satisfied: certifi>=2017.4.17 in c:\\users\\samme\\appdata\\local\\packages\\pythonsoftwarefoundation.python.3.10_qbz5n2kfra8p0\\localcache\\local-packages\\python310\\site-packages (from requests->unstructured) (2022.12.7)\n",
            "Requirement already satisfied: urllib3<1.27,>=1.21.1 in c:\\users\\samme\\appdata\\local\\packages\\pythonsoftwarefoundation.python.3.10_qbz5n2kfra8p0\\localcache\\local-packages\\python310\\site-packages (from requests->unstructured) (1.26.14)\n",
            "Requirement already satisfied: idna<4,>=2.5 in c:\\users\\samme\\appdata\\local\\packages\\pythonsoftwarefoundation.python.3.10_qbz5n2kfra8p0\\localcache\\local-packages\\python310\\site-packages (from requests->unstructured) (2.10)\n",
            "Requirement already satisfied: packaging>=17.0 in c:\\users\\samme\\appdata\\local\\packages\\pythonsoftwarefoundation.python.3.10_qbz5n2kfra8p0\\localcache\\local-packages\\python310\\site-packages (from marshmallow<4.0.0,>=3.18.0->dataclasses-json->unstructured) (23.0)\n",
            "Requirement already satisfied: mypy-extensions>=0.3.0 in c:\\users\\samme\\appdata\\local\\packages\\pythonsoftwarefoundation.python.3.10_qbz5n2kfra8p0\\localcache\\local-packages\\python310\\site-packages (from typing-inspect<1,>=0.4.0->dataclasses-json->unstructured) (1.0.0)\n",
            "Requirement already satisfied: colorama in c:\\users\\samme\\appdata\\local\\packages\\pythonsoftwarefoundation.python.3.10_qbz5n2kfra8p0\\localcache\\local-packages\\python310\\site-packages (from click->nltk->unstructured) (0.4.6)\n",
            "Building wheels for collected packages: langdetect\n",
            "  Building wheel for langdetect (setup.py): started\n",
            "  Building wheel for langdetect (setup.py): finished with status 'done'\n",
            "  Created wheel for langdetect: filename=langdetect-1.0.9-py3-none-any.whl size=993253 sha256=9014d58a3947121929636f246fb5b8c4bfb91e6d37e3747529c3b27ada16533c\n",
            "  Stored in directory: c:\\users\\samme\\appdata\\local\\pip\\cache\\wheels\\95\\03\\7d\\59ea870c70ce4e5a370638b5462a7711ab78fba2f655d05106\n",
            "Successfully built langdetect\n",
            "Installing collected packages: filetype, wrapt, rapidfuzz, python-magic, python-iso639, lxml, langdetect, emoji, backoff, unstructured\n",
            "Successfully installed backoff-2.2.1 emoji-2.8.0 filetype-1.2.0 langdetect-1.0.9 lxml-4.9.3 python-iso639-2023.6.15 python-magic-0.4.27 rapidfuzz-3.5.2 unstructured-0.11.2 wrapt-1.16.0\n",
            "Collecting pypdf"
          ]
        },
        {
          "name": "stderr",
          "output_type": "stream",
          "text": [
            "\n",
            "[notice] A new release of pip is available: 23.0 -> 23.3.1\n",
            "[notice] To update, run: C:\\Users\\samme\\AppData\\Local\\Microsoft\\WindowsApps\\PythonSoftwareFoundation.Python.3.10_qbz5n2kfra8p0\\python.exe -m pip install --upgrade pip\n"
          ]
        },
        {
          "name": "stdout",
          "output_type": "stream",
          "text": [
            "\n",
            "  Downloading pypdf-3.17.1-py3-none-any.whl (277 kB)\n",
            "     ---------------------------------------- 0.0/277.6 kB ? eta -:--:--\n",
            "     ------------------------------------  276.5/277.6 kB 16.6 MB/s eta 0:00:01\n",
            "     -------------------------------------- 277.6/277.6 kB 5.7 MB/s eta 0:00:00\n",
            "Installing collected packages: pypdf\n",
            "Successfully installed pypdf-3.17.1\n",
            "Collecting llama-index\n",
            "  Downloading llama_index-0.9.10-py3-none-any.whl (917 kB)\n",
            "     ---------------------------------------- 0.0/917.6 kB ? eta -:--:--\n",
            "     --------------- --------------------- 378.9/917.6 kB 11.5 MB/s eta 0:00:01\n",
            "     ---------------------------- -------- 706.6/917.6 kB 11.1 MB/s eta 0:00:01\n",
            "     ---------------------------------- --- 839.7/917.6 kB 6.6 MB/s eta 0:00:01\n",
            "     ------------------------------------ - 890.9/917.6 kB 6.2 MB/s eta 0:00:01\n",
            "     -------------------------------------  911.4/917.6 kB 3.8 MB/s eta 0:00:01\n",
            "     -------------------------------------- 917.6/917.6 kB 3.6 MB/s eta 0:00:00\n",
            "Requirement already satisfied: ipywidgets in c:\\users\\samme\\appdata\\local\\packages\\pythonsoftwarefoundation.python.3.10_qbz5n2kfra8p0\\localcache\\local-packages\\python310\\site-packages (8.0.6)\n",
            "Collecting tiktoken>=0.3.3\n",
            "  Downloading tiktoken-0.5.1-cp310-cp310-win_amd64.whl (759 kB)\n",
            "     ---------------------------------------- 0.0/759.8 kB ? eta -:--:--\n",
            "     ----------------------------- ------- 604.2/759.8 kB 37.1 MB/s eta 0:00:01\n",
            "     ----------------------------- ------- 604.2/759.8 kB 37.1 MB/s eta 0:00:01\n",
            "     -------------------------------------- 759.8/759.8 kB 6.0 MB/s eta 0:00:00\n",
            "Requirement already satisfied: typing-inspect>=0.8.0 in c:\\users\\samme\\appdata\\local\\packages\\pythonsoftwarefoundation.python.3.10_qbz5n2kfra8p0\\localcache\\local-packages\\python310\\site-packages (from llama-index) (0.9.0)\n",
            "Requirement already satisfied: dataclasses-json in c:\\users\\samme\\appdata\\local\\packages\\pythonsoftwarefoundation.python.3.10_qbz5n2kfra8p0\\localcache\\local-packages\\python310\\site-packages (from llama-index) (0.6.3)\n",
            "Collecting requests>=2.31.0\n",
            "  Downloading requests-2.31.0-py3-none-any.whl (62 kB)\n",
            "     ---------------------------------------- 0.0/62.6 kB ? eta -:--:--\n",
            "     ---------------------------------------- 62.6/62.6 kB ? eta 0:00:00\n",
            "Requirement already satisfied: SQLAlchemy[asyncio]>=1.4.49 in c:\\users\\samme\\appdata\\local\\packages\\pythonsoftwarefoundation.python.3.10_qbz5n2kfra8p0\\localcache\\local-packages\\python310\\site-packages (from llama-index) (2.0.23)\n",
            "Requirement already satisfied: httpx in c:\\users\\samme\\appdata\\local\\packages\\pythonsoftwarefoundation.python.3.10_qbz5n2kfra8p0\\localcache\\local-packages\\python310\\site-packages (from llama-index) (0.25.1)\n",
            "Collecting deprecated>=1.2.9.3\n",
            "  Downloading Deprecated-1.2.14-py2.py3-none-any.whl (9.6 kB)\n",
            "Collecting nest-asyncio<2.0.0,>=1.5.8\n",
            "  Downloading nest_asyncio-1.5.8-py3-none-any.whl (5.3 kB)\n",
            "Requirement already satisfied: numpy in c:\\users\\samme\\appdata\\local\\packages\\pythonsoftwarefoundation.python.3.10_qbz5n2kfra8p0\\localcache\\local-packages\\python310\\site-packages (from llama-index) (1.24.2)\n",
            "Requirement already satisfied: tenacity<9.0.0,>=8.2.0 in c:\\users\\samme\\appdata\\local\\packages\\pythonsoftwarefoundation.python.3.10_qbz5n2kfra8p0\\localcache\\local-packages\\python310\\site-packages (from llama-index) (8.2.3)\n",
            "Requirement already satisfied: aiohttp<4.0.0,>=3.8.6 in c:\\users\\samme\\appdata\\local\\packages\\pythonsoftwarefoundation.python.3.10_qbz5n2kfra8p0\\localcache\\local-packages\\python310\\site-packages (from llama-index) (3.8.6)\n",
            "Requirement already satisfied: nltk<4.0.0,>=3.8.1 in c:\\users\\samme\\appdata\\local\\packages\\pythonsoftwarefoundation.python.3.10_qbz5n2kfra8p0\\localcache\\local-packages\\python310\\site-packages (from llama-index) (3.8.1)\n",
            "Requirement already satisfied: openai>=1.1.0 in c:\\users\\samme\\appdata\\local\\packages\\pythonsoftwarefoundation.python.3.10_qbz5n2kfra8p0\\localcache\\local-packages\\python310\\site-packages (from llama-index) (1.2.4)\n",
            "Collecting beautifulsoup4<5.0.0,>=4.12.2\n",
            "  Downloading beautifulsoup4-4.12.2-py3-none-any.whl (142 kB)\n",
            "     ---------------------------------------- 0.0/143.0 kB ? eta -:--:--\n",
            "     -------------------------------------- 143.0/143.0 kB 8.8 MB/s eta 0:00:00\n",
            "Collecting aiostream<0.6.0,>=0.5.2\n",
            "  Downloading aiostream-0.5.2-py3-none-any.whl (39 kB)\n",
            "Requirement already satisfied: fsspec>=2023.5.0 in c:\\users\\samme\\appdata\\local\\packages\\pythonsoftwarefoundation.python.3.10_qbz5n2kfra8p0\\localcache\\local-packages\\python310\\site-packages (from llama-index) (2023.6.0)\n",
            "Requirement already satisfied: pandas in c:\\users\\samme\\appdata\\local\\packages\\pythonsoftwarefoundation.python.3.10_qbz5n2kfra8p0\\localcache\\local-packages\\python310\\site-packages (from llama-index) (1.5.3)\n",
            "Requirement already satisfied: typing-extensions>=4.5.0 in c:\\users\\samme\\appdata\\local\\packages\\pythonsoftwarefoundation.python.3.10_qbz5n2kfra8p0\\localcache\\local-packages\\python310\\site-packages (from llama-index) (4.8.0)\n",
            "Requirement already satisfied: jupyterlab-widgets~=3.0.7 in c:\\users\\samme\\appdata\\local\\packages\\pythonsoftwarefoundation.python.3.10_qbz5n2kfra8p0\\localcache\\local-packages\\python310\\site-packages (from ipywidgets) (3.0.7)\n",
            "Requirement already satisfied: widgetsnbextension~=4.0.7 in c:\\users\\samme\\appdata\\local\\packages\\pythonsoftwarefoundation.python.3.10_qbz5n2kfra8p0\\localcache\\local-packages\\python310\\site-packages (from ipywidgets) (4.0.7)\n",
            "Requirement already satisfied: ipython>=6.1.0 in c:\\users\\samme\\appdata\\local\\packages\\pythonsoftwarefoundation.python.3.10_qbz5n2kfra8p0\\localcache\\local-packages\\python310\\site-packages (from ipywidgets) (8.10.0)\n",
            "Requirement already satisfied: ipykernel>=4.5.1 in c:\\users\\samme\\appdata\\local\\packages\\pythonsoftwarefoundation.python.3.10_qbz5n2kfra8p0\\localcache\\local-packages\\python310\\site-packages (from ipywidgets) (6.21.2)\n",
            "Requirement already satisfied: traitlets>=4.3.1 in c:\\users\\samme\\appdata\\local\\packages\\pythonsoftwarefoundation.python.3.10_qbz5n2kfra8p0\\localcache\\local-packages\\python310\\site-packages (from ipywidgets) (5.9.0)\n",
            "Requirement already satisfied: multidict<7.0,>=4.5 in c:\\users\\samme\\appdata\\local\\packages\\pythonsoftwarefoundation.python.3.10_qbz5n2kfra8p0\\localcache\\local-packages\\python310\\site-packages (from aiohttp<4.0.0,>=3.8.6->llama-index) (6.0.4)\n",
            "Requirement already satisfied: attrs>=17.3.0 in c:\\users\\samme\\appdata\\local\\packages\\pythonsoftwarefoundation.python.3.10_qbz5n2kfra8p0\\localcache\\local-packages\\python310\\site-packages (from aiohttp<4.0.0,>=3.8.6->llama-index) (22.2.0)\n",
            "Requirement already satisfied: async-timeout<5.0,>=4.0.0a3 in c:\\users\\samme\\appdata\\local\\packages\\pythonsoftwarefoundation.python.3.10_qbz5n2kfra8p0\\localcache\\local-packages\\python310\\site-packages (from aiohttp<4.0.0,>=3.8.6->llama-index) (4.0.3)\n",
            "Requirement already satisfied: frozenlist>=1.1.1 in c:\\users\\samme\\appdata\\local\\packages\\pythonsoftwarefoundation.python.3.10_qbz5n2kfra8p0\\localcache\\local-packages\\python310\\site-packages (from aiohttp<4.0.0,>=3.8.6->llama-index) (1.4.0)\n",
            "Requirement already satisfied: aiosignal>=1.1.2 in c:\\users\\samme\\appdata\\local\\packages\\pythonsoftwarefoundation.python.3.10_qbz5n2kfra8p0\\localcache\\local-packages\\python310\\site-packages (from aiohttp<4.0.0,>=3.8.6->llama-index) (1.3.1)\n",
            "Requirement already satisfied: yarl<2.0,>=1.0 in c:\\users\\samme\\appdata\\local\\packages\\pythonsoftwarefoundation.python.3.10_qbz5n2kfra8p0\\localcache\\local-packages\\python310\\site-packages (from aiohttp<4.0.0,>=3.8.6->llama-index) (1.9.2)\n",
            "Requirement already satisfied: charset-normalizer<4.0,>=2.0 in c:\\users\\samme\\appdata\\local\\packages\\pythonsoftwarefoundation.python.3.10_qbz5n2kfra8p0\\localcache\\local-packages\\python310\\site-packages (from aiohttp<4.0.0,>=3.8.6->llama-index) (3.0.1)\n",
            "Requirement already satisfied: soupsieve>1.2 in c:\\users\\samme\\appdata\\local\\packages\\pythonsoftwarefoundation.python.3.10_qbz5n2kfra8p0\\localcache\\local-packages\\python310\\site-packages (from beautifulsoup4<5.0.0,>=4.12.2->llama-index) (2.4)\n",
            "Requirement already satisfied: wrapt<2,>=1.10 in c:\\users\\samme\\appdata\\local\\packages\\pythonsoftwarefoundation.python.3.10_qbz5n2kfra8p0\\localcache\\local-packages\\python310\\site-packages (from deprecated>=1.2.9.3->llama-index) (1.16.0)\n",
            "Requirement already satisfied: matplotlib-inline>=0.1 in c:\\users\\samme\\appdata\\local\\packages\\pythonsoftwarefoundation.python.3.10_qbz5n2kfra8p0\\localcache\\local-packages\\python310\\site-packages (from ipykernel>=4.5.1->ipywidgets) (0.1.6)\n",
            "Requirement already satisfied: comm>=0.1.1 in c:\\users\\samme\\appdata\\local\\packages\\pythonsoftwarefoundation.python.3.10_qbz5n2kfra8p0\\localcache\\local-packages\\python310\\site-packages (from ipykernel>=4.5.1->ipywidgets) (0.1.2)\n",
            "Requirement already satisfied: debugpy>=1.6.5 in c:\\users\\samme\\appdata\\local\\packages\\pythonsoftwarefoundation.python.3.10_qbz5n2kfra8p0\\localcache\\local-packages\\python310\\site-packages (from ipykernel>=4.5.1->ipywidgets) (1.6.6)\n",
            "Requirement already satisfied: jupyter-client>=6.1.12 in c:\\users\\samme\\appdata\\local\\packages\\pythonsoftwarefoundation.python.3.10_qbz5n2kfra8p0\\localcache\\local-packages\\python310\\site-packages (from ipykernel>=4.5.1->ipywidgets) (8.0.3)\n",
            "Requirement already satisfied: packaging in c:\\users\\samme\\appdata\\local\\packages\\pythonsoftwarefoundation.python.3.10_qbz5n2kfra8p0\\localcache\\local-packages\\python310\\site-packages (from ipykernel>=4.5.1->ipywidgets) (23.0)\n",
            "Requirement already satisfied: psutil in c:\\users\\samme\\appdata\\local\\packages\\pythonsoftwarefoundation.python.3.10_qbz5n2kfra8p0\\localcache\\local-packages\\python310\\site-packages (from ipykernel>=4.5.1->ipywidgets) (5.9.4)\n",
            "Requirement already satisfied: pyzmq>=20 in c:\\users\\samme\\appdata\\local\\packages\\pythonsoftwarefoundation.python.3.10_qbz5n2kfra8p0\\localcache\\local-packages\\python310\\site-packages (from ipykernel>=4.5.1->ipywidgets) (25.0.0)\n",
            "Requirement already satisfied: jupyter-core!=5.0.*,>=4.12 in c:\\users\\samme\\appdata\\local\\packages\\pythonsoftwarefoundation.python.3.10_qbz5n2kfra8p0\\localcache\\local-packages\\python310\\site-packages (from ipykernel>=4.5.1->ipywidgets) (5.2.0)\n",
            "Requirement already satisfied: tornado>=6.1 in c:\\users\\samme\\appdata\\local\\packages\\pythonsoftwarefoundation.python.3.10_qbz5n2kfra8p0\\localcache\\local-packages\\python310\\site-packages (from ipykernel>=4.5.1->ipywidgets) (6.2)\n",
            "Requirement already satisfied: colorama in c:\\users\\samme\\appdata\\local\\packages\\pythonsoftwarefoundation.python.3.10_qbz5n2kfra8p0\\localcache\\local-packages\\python310\\site-packages (from ipython>=6.1.0->ipywidgets) (0.4.6)\n",
            "Requirement already satisfied: decorator in c:\\users\\samme\\appdata\\local\\packages\\pythonsoftwarefoundation.python.3.10_qbz5n2kfra8p0\\localcache\\local-packages\\python310\\site-packages (from ipython>=6.1.0->ipywidgets) (5.1.1)\n",
            "Requirement already satisfied: backcall in c:\\users\\samme\\appdata\\local\\packages\\pythonsoftwarefoundation.python.3.10_qbz5n2kfra8p0\\localcache\\local-packages\\python310\\site-packages (from ipython>=6.1.0->ipywidgets) (0.2.0)\n",
            "Requirement already satisfied: jedi>=0.16 in c:\\users\\samme\\appdata\\local\\packages\\pythonsoftwarefoundation.python.3.10_qbz5n2kfra8p0\\localcache\\local-packages\\python310\\site-packages (from ipython>=6.1.0->ipywidgets) (0.18.2)\n",
            "Requirement already satisfied: stack-data in c:\\users\\samme\\appdata\\local\\packages\\pythonsoftwarefoundation.python.3.10_qbz5n2kfra8p0\\localcache\\local-packages\\python310\\site-packages (from ipython>=6.1.0->ipywidgets) (0.6.2)\n",
            "Requirement already satisfied: pygments>=2.4.0 in c:\\users\\samme\\appdata\\local\\packages\\pythonsoftwarefoundation.python.3.10_qbz5n2kfra8p0\\localcache\\local-packages\\python310\\site-packages (from ipython>=6.1.0->ipywidgets) (2.14.0)\n",
            "Requirement already satisfied: prompt-toolkit<3.1.0,>=3.0.30 in c:\\users\\samme\\appdata\\local\\packages\\pythonsoftwarefoundation.python.3.10_qbz5n2kfra8p0\\localcache\\local-packages\\python310\\site-packages (from ipython>=6.1.0->ipywidgets) (3.0.37)\n",
            "Requirement already satisfied: pickleshare in c:\\users\\samme\\appdata\\local\\packages\\pythonsoftwarefoundation.python.3.10_qbz5n2kfra8p0\\localcache\\local-packages\\python310\\site-packages (from ipython>=6.1.0->ipywidgets) (0.7.5)\n",
            "Requirement already satisfied: regex>=2021.8.3 in c:\\users\\samme\\appdata\\local\\packages\\pythonsoftwarefoundation.python.3.10_qbz5n2kfra8p0\\localcache\\local-packages\\python310\\site-packages (from nltk<4.0.0,>=3.8.1->llama-index) (2023.3.23)\n",
            "Requirement already satisfied: tqdm in c:\\users\\samme\\appdata\\local\\packages\\pythonsoftwarefoundation.python.3.10_qbz5n2kfra8p0\\localcache\\local-packages\\python310\\site-packages (from nltk<4.0.0,>=3.8.1->llama-index) (4.64.1)\n",
            "Requirement already satisfied: joblib in c:\\users\\samme\\appdata\\local\\packages\\pythonsoftwarefoundation.python.3.10_qbz5n2kfra8p0\\localcache\\local-packages\\python310\\site-packages (from nltk<4.0.0,>=3.8.1->llama-index) (1.2.0)\n",
            "Requirement already satisfied: click in c:\\users\\samme\\appdata\\local\\packages\\pythonsoftwarefoundation.python.3.10_qbz5n2kfra8p0\\localcache\\local-packages\\python310\\site-packages (from nltk<4.0.0,>=3.8.1->llama-index) (8.1.3)\n",
            "Requirement already satisfied: pydantic<3,>=1.9.0 in c:\\users\\samme\\appdata\\local\\packages\\pythonsoftwarefoundation.python.3.10_qbz5n2kfra8p0\\localcache\\local-packages\\python310\\site-packages (from openai>=1.1.0->llama-index) (1.10.4)\n",
            "Requirement already satisfied: distro<2,>=1.7.0 in c:\\users\\samme\\appdata\\local\\packages\\pythonsoftwarefoundation.python.3.10_qbz5n2kfra8p0\\localcache\\local-packages\\python310\\site-packages (from openai>=1.1.0->llama-index) (1.8.0)\n",
            "Requirement already satisfied: anyio<4,>=3.5.0 in c:\\users\\samme\\appdata\\local\\packages\\pythonsoftwarefoundation.python.3.10_qbz5n2kfra8p0\\localcache\\local-packages\\python310\\site-packages (from openai>=1.1.0->llama-index) (3.7.1)\n",
            "Requirement already satisfied: sniffio in c:\\users\\samme\\appdata\\local\\packages\\pythonsoftwarefoundation.python.3.10_qbz5n2kfra8p0\\localcache\\local-packages\\python310\\site-packages (from httpx->llama-index) (1.3.0)\n",
            "Requirement already satisfied: certifi in c:\\users\\samme\\appdata\\local\\packages\\pythonsoftwarefoundation.python.3.10_qbz5n2kfra8p0\\localcache\\local-packages\\python310\\site-packages (from httpx->llama-index) (2022.12.7)\n",
            "Requirement already satisfied: idna in c:\\users\\samme\\appdata\\local\\packages\\pythonsoftwarefoundation.python.3.10_qbz5n2kfra8p0\\localcache\\local-packages\\python310\\site-packages (from httpx->llama-index) (2.10)\n",
            "Requirement already satisfied: httpcore in c:\\users\\samme\\appdata\\local\\packages\\pythonsoftwarefoundation.python.3.10_qbz5n2kfra8p0\\localcache\\local-packages\\python310\\site-packages (from httpx->llama-index) (0.15.0)\n",
            "Requirement already satisfied: urllib3<3,>=1.21.1 in c:\\users\\samme\\appdata\\local\\packages\\pythonsoftwarefoundation.python.3.10_qbz5n2kfra8p0\\localcache\\local-packages\\python310\\site-packages (from requests>=2.31.0->llama-index) (1.26.14)\n",
            "Requirement already satisfied: greenlet!=0.4.17 in c:\\users\\samme\\appdata\\local\\packages\\pythonsoftwarefoundation.python.3.10_qbz5n2kfra8p0\\localcache\\local-packages\\python310\\site-packages (from SQLAlchemy[asyncio]>=1.4.49->llama-index) (3.0.1)\n",
            "Requirement already satisfied: mypy-extensions>=0.3.0 in c:\\users\\samme\\appdata\\local\\packages\\pythonsoftwarefoundation.python.3.10_qbz5n2kfra8p0\\localcache\\local-packages\\python310\\site-packages (from typing-inspect>=0.8.0->llama-index) (1.0.0)\n",
            "Requirement already satisfied: marshmallow<4.0.0,>=3.18.0 in c:\\users\\samme\\appdata\\local\\packages\\pythonsoftwarefoundation.python.3.10_qbz5n2kfra8p0\\localcache\\local-packages\\python310\\site-packages (from dataclasses-json->llama-index) (3.20.1)\n",
            "Requirement already satisfied: pytz>=2020.1 in c:\\users\\samme\\appdata\\local\\packages\\pythonsoftwarefoundation.python.3.10_qbz5n2kfra8p0\\localcache\\local-packages\\python310\\site-packages (from pandas->llama-index) (2022.7.1)\n",
            "Requirement already satisfied: python-dateutil>=2.8.1 in c:\\users\\samme\\appdata\\local\\packages\\pythonsoftwarefoundation.python.3.10_qbz5n2kfra8p0\\localcache\\local-packages\\python310\\site-packages (from pandas->llama-index) (2.8.2)\n",
            "Requirement already satisfied: exceptiongroup in c:\\users\\samme\\appdata\\local\\packages\\pythonsoftwarefoundation.python.3.10_qbz5n2kfra8p0\\localcache\\local-packages\\python310\\site-packages (from anyio<4,>=3.5.0->openai>=1.1.0->llama-index) (1.1.3)\n",
            "Requirement already satisfied: parso<0.9.0,>=0.8.0 in c:\\users\\samme\\appdata\\local\\packages\\pythonsoftwarefoundation.python.3.10_qbz5n2kfra8p0\\localcache\\local-packages\\python310\\site-packages (from jedi>=0.16->ipython>=6.1.0->ipywidgets) (0.8.3)\n",
            "Requirement already satisfied: pywin32>=1.0 in c:\\users\\samme\\appdata\\local\\packages\\pythonsoftwarefoundation.python.3.10_qbz5n2kfra8p0\\localcache\\local-packages\\python310\\site-packages (from jupyter-core!=5.0.*,>=4.12->ipykernel>=4.5.1->ipywidgets) (305)\n",
            "Requirement already satisfied: platformdirs>=2.5 in c:\\users\\samme\\appdata\\local\\packages\\pythonsoftwarefoundation.python.3.10_qbz5n2kfra8p0\\localcache\\local-packages\\python310\\site-packages (from jupyter-core!=5.0.*,>=4.12->ipykernel>=4.5.1->ipywidgets) (3.0.0)\n",
            "Requirement already satisfied: wcwidth in c:\\users\\samme\\appdata\\local\\packages\\pythonsoftwarefoundation.python.3.10_qbz5n2kfra8p0\\localcache\\local-packages\\python310\\site-packages (from prompt-toolkit<3.1.0,>=3.0.30->ipython>=6.1.0->ipywidgets) (0.2.6)\n",
            "Requirement already satisfied: six>=1.5 in c:\\users\\samme\\appdata\\local\\packages\\pythonsoftwarefoundation.python.3.10_qbz5n2kfra8p0\\localcache\\local-packages\\python310\\site-packages (from python-dateutil>=2.8.1->pandas->llama-index) (1.16.0)\n",
            "Requirement already satisfied: h11<0.13,>=0.11 in c:\\users\\samme\\appdata\\local\\packages\\pythonsoftwarefoundation.python.3.10_qbz5n2kfra8p0\\localcache\\local-packages\\python310\\site-packages (from httpcore->httpx->llama-index) (0.12.0)\n",
            "Requirement already satisfied: pure-eval in c:\\users\\samme\\appdata\\local\\packages\\pythonsoftwarefoundation.python.3.10_qbz5n2kfra8p0\\localcache\\local-packages\\python310\\site-packages (from stack-data->ipython>=6.1.0->ipywidgets) (0.2.2)\n",
            "Requirement already satisfied: executing>=1.2.0 in c:\\users\\samme\\appdata\\local\\packages\\pythonsoftwarefoundation.python.3.10_qbz5n2kfra8p0\\localcache\\local-packages\\python310\\site-packages (from stack-data->ipython>=6.1.0->ipywidgets) (1.2.0)\n",
            "Requirement already satisfied: asttokens>=2.1.0 in c:\\users\\samme\\appdata\\local\\packages\\pythonsoftwarefoundation.python.3.10_qbz5n2kfra8p0\\localcache\\local-packages\\python310\\site-packages (from stack-data->ipython>=6.1.0->ipywidgets) (2.2.1)\n",
            "Installing collected packages: requests, nest-asyncio, deprecated, beautifulsoup4, aiostream, tiktoken, llama-index\n",
            "  Attempting uninstall: requests\n",
            "    Found existing installation: requests 2.28.2\n",
            "    Uninstalling requests-2.28.2:\n",
            "      Successfully uninstalled requests-2.28.2\n",
            "  Attempting uninstall: nest-asyncio\n",
            "    Found existing installation: nest-asyncio 1.5.6\n",
            "    Uninstalling nest-asyncio-1.5.6:\n",
            "      Successfully uninstalled nest-asyncio-1.5.6\n",
            "  Attempting uninstall: beautifulsoup4\n",
            "    Found existing installation: beautifulsoup4 4.11.2\n",
            "    Uninstalling beautifulsoup4-4.11.2:\n",
            "      Successfully uninstalled beautifulsoup4-4.11.2\n",
            "Successfully installed aiostream-0.5.2 beautifulsoup4-4.12.2 deprecated-1.2.14 llama-index-0.9.10 nest-asyncio-1.5.8 requests-2.31.0 tiktoken-0.5.1\n"
          ]
        },
        {
          "name": "stderr",
          "output_type": "stream",
          "text": [
            "ERROR: pip's dependency resolver does not currently take into account all the packages that are installed. This behaviour is the source of the following dependency conflicts.\n",
            "torchtext 0.15.2 requires torch==2.0.1, but you have torch 2.0.0 which is incompatible.\n",
            "torchdata 0.6.1 requires torch==2.0.1, but you have torch 2.0.0 which is incompatible.\n",
            "\n",
            "[notice] A new release of pip is available: 23.0 -> 23.3.1\n",
            "[notice] To update, run: C:\\Users\\samme\\AppData\\Local\\Microsoft\\WindowsApps\\PythonSoftwareFoundation.Python.3.10_qbz5n2kfra8p0\\python.exe -m pip install --upgrade pip\n"
          ]
        }
      ],
      "source": [
        "# %%capture\n",
        "!pip install langchain\n",
        "!pip install transformers\n",
        "!pip install unstructured\n",
        "!pip install pypdf\n",
        "!pip install llama-index ipywidgets\n",
        "!pip -qqq install bitsandbytes accelerate"
      ]
    },
    {
      "cell_type": "code",
      "execution_count": 5,
      "metadata": {
        "id": "9EiSfHveiNQA"
      },
      "outputs": [
        {
          "data": {
            "text/html": [
              "<style>.container { width:10% !important; }</style>"
            ],
            "text/plain": [
              "<IPython.core.display.HTML object>"
            ]
          },
          "metadata": {},
          "output_type": "display_data"
        }
      ],
      "source": [
        "import logging\n",
        "import sys\n",
        "\n",
        "logging.basicConfig(stream=sys.stdout, level=logging.INFO)\n",
        "logging.getLogger().addHandler(logging.StreamHandler(stream=sys.stdout))\n",
        "\n",
        "from IPython.display import Markdown, display, HTML\n",
        "\n",
        "display(HTML(\"<style>.container { width:10% !important; }</style>\"))"
      ]
    },
    {
      "cell_type": "markdown",
      "metadata": {
        "id": "8CzbDEx9xxAr"
      },
      "source": [
        "## Now we will start importing two test documents for cleaning. The purpose of this test is to create a cleaning function while data injection in RAG system.\n",
        "\n",
        "#### The methodology is inspired from https://deci.ai/blog/rag-with-llamaindex-and-decilm-a-step-by-step-tutorial/\n",
        "\n",
        "#### First we will load two documents.\n"
      ]
    },
    {
      "cell_type": "code",
      "execution_count": 6,
      "metadata": {
        "colab": {
          "base_uri": "https://localhost:8080/"
        },
        "id": "96IHQXACiV2W",
        "outputId": "5df069b6-613d-4cd6-c5d2-41f94a7fbdf6"
      },
      "outputs": [
        {
          "data": {
            "text/plain": [
              "[Document(id_='d6d0fc24-92eb-470d-b07e-b1f554d79b32', embedding=None, metadata={'page_label': '1', 'file_name': 'Audio or video on newer Macs is choppy or freezing.pdf', 'file_path': 'data\\\\Audio or video on newer Macs is choppy or freezing.pdf', 'file_type': 'application/pdf', 'file_size': 131777, 'creation_date': '2023-12-01', 'last_modified_date': '2023-11-07', 'last_accessed_date': '2023-12-01'}, excluded_embed_metadata_keys=['file_name', 'file_type', 'file_size', 'creation_date', 'last_modified_date', 'last_accessed_date'], excluded_llm_metadata_keys=['file_name', 'file_type', 'file_size', 'creation_date', 'last_modified_date', 'last_accessed_date'], relationships={}, hash='1469d73a3a6813042e13f0a2d0bf6d2817b1204b7d5487f068e00de493c099ce', text='11/7/23, 9:11 PM Audio or video on newer Macs is choppy or freezing\\nhttps://utoronto.sharepoint.com/sites/lsm-TalkmasterKB/SitePages/Troubleshooting-Guides/video-playback-on-newer-macs-is-choppy.aspx 1/3TROUBLESHOOTING GUIDE:\\nAudio or video on new er Macs is choppy or\\nfreezing\\nKB Home  > User T roubleshooting \\xa0> Audio or video on newer Macs is choppy\\xa0or freezing\\nThis is an emer ging issue! So when y ou enc ounter it, pleas e mak e an\\xa0extr a effort to\\ndiscuss with the c o-pilot and c ollect det ails for the T alkmast er Log\\xa0\\nIf the\\xa0user complains that their audio or video playback is:\\xa0\\n“choppy\"\\xa0\\n“stuttering”\\nYouTube video skips to the end without playing\\n“freezing\"\\xa0\\n“glitching”\\xa0\\n“speeding up and slowing down”\\xa0\\n“crunchy sounding” \\xa0\\nor similar...\\xa0\\nthen ask them: are you using a new er Mac?\\n(roughly speaking, released from 2020 onward)\\nIf yes, ask them to \" try unplugging the HDMI cable fr om y our lapt op\", then playing\\nthe video or audio again.\\nIf their video or audio plays back normally once the HDMI cable is unplugged, tell\\nthem: \" restar t\\xa0your lapt op with the HDMI cable plugged in .\"\\xa0This should make their\\nvideo or audio play back properly.\\nIf instruct ors are unenthusiastic  about this option because they don\\'t want to\\nrestart their laptop in the middle of a class, you can tell them:\\xa0\\n\"With Macbook models from about 2020 onward, we have found that\\nrestarting your laptop almost always fixes this particular problem\"', start_char_idx=None, end_char_idx=None, text_template='{metadata_str}\\n\\n{content}', metadata_template='{key}: {value}', metadata_seperator='\\n'),\n",
              " Document(id_='f1cd6f5e-9ba5-4e96-a755-8ead6a01bd0b', embedding=None, metadata={'page_label': '2', 'file_name': 'Audio or video on newer Macs is choppy or freezing.pdf', 'file_path': 'data\\\\Audio or video on newer Macs is choppy or freezing.pdf', 'file_type': 'application/pdf', 'file_size': 131777, 'creation_date': '2023-12-01', 'last_modified_date': '2023-11-07', 'last_accessed_date': '2023-12-01'}, excluded_embed_metadata_keys=['file_name', 'file_type', 'file_size', 'creation_date', 'last_modified_date', 'last_accessed_date'], excluded_llm_metadata_keys=['file_name', 'file_type', 'file_size', 'creation_date', 'last_modified_date', 'last_accessed_date'], relationships={}, hash='a524b4a6dd722d6eeb3e28a9d3512d62568cc1115a0ba5753d6d5647ea45a3df', text='11/7/23, 9:11 PM Audio or video on newer Macs is choppy or freezing\\nhttps://utoronto.sharepoint.com/sites/lsm-TalkmasterKB/SitePages/Troubleshooting-Guides/video-playback-on-newer-macs-is-choppy.aspx 2/3if they\\'re on a Full-size or TEAL station:\\n\"Another option is to open your video or audio on the built-in R oom PC,\\nthen play it from there\"\\xa0\\nSo far we\\'ve encountered this issue with:\\xa0\\nYouTube videos\\xa0\\nembedded P owerP oint videos\\nMacs plugged directly into HDMI\\nMacs using a USB-C adapter\\n\\xa0\\nWe would lo ve to kno w mor e about:\\xa0\\nwhich model o f Macbook ar e they using?\\xa0\\nwhat v ersion o f macOS ar e they r unning?\\xa0\\nwhat br and o f HDMI adapt er are they using?\\xa0\\nSome o f this info can be found b y asking them t o:\\xa0\\ngo to the Apple Menu in the t op-lef t corner o f your lapt op screen\\xa0\\nselect About this Mac\\xa0\\nThis should sho w the us er some info lik e:\\nmacOS Mont erey\\xa0\\nVersion 12.6.3\\xa0\\nMacbook Pr o (13-inch, 2018, Four Thunderbolt 3 por ts)\\xa0\\n\\xa0\\n\\xa0\\nKeywords:\\xa0#macint osh #mac #mess ed #up #mo vie #audio #s ound #bzzzzzzz #dongle\\n#recent #r ecently #pur chased #Macbook #Air #V entur a #Mont erey #Big #Sur #macOS', start_char_idx=None, end_char_idx=None, text_template='{metadata_str}\\n\\n{content}', metadata_template='{key}: {value}', metadata_seperator='\\n'),\n",
              " Document(id_='2f663047-d85f-4d50-9b2d-41266ab55754', embedding=None, metadata={'page_label': '3', 'file_name': 'Audio or video on newer Macs is choppy or freezing.pdf', 'file_path': 'data\\\\Audio or video on newer Macs is choppy or freezing.pdf', 'file_type': 'application/pdf', 'file_size': 131777, 'creation_date': '2023-12-01', 'last_modified_date': '2023-11-07', 'last_accessed_date': '2023-12-01'}, excluded_embed_metadata_keys=['file_name', 'file_type', 'file_size', 'creation_date', 'last_modified_date', 'last_accessed_date'], excluded_llm_metadata_keys=['file_name', 'file_type', 'file_size', 'creation_date', 'last_modified_date', 'last_accessed_date'], relationships={}, hash='d907eed413f15cc90b5e2eaaf4d203f4d4abf4280ca1773e8b7013c60949406c', text='11/7/23, 9:11 PM Audio or video on newer Macs is choppy or freezing\\nhttps://utoronto.sharepoint.com/sites/lsm-TalkmasterKB/SitePages/Troubleshooting-Guides/video-playback-on-newer-macs-is-choppy.aspx 3/3#version #OS #11 #12 #13 #new #bought        \\n\\xa0\\nMac video playb ack choppy changelog See all\\n\\ue710New\\ue70d\\uf247Edit in grid view \\ue72dShare Export to Excel \\ue712\\uea37Newest Entries \\ue70d\\ue946\\nDescription o f …\\ue70d Date Updat ed:\\ue70d\\uee69 Updat ed by: \\ue70d\\nUpdated to reflect\\nnew details\\nprovided by Ian\\nCampbell10/20/2023\\nIan S wain\\nCreated new page,\\nin collab w/ Amy1/30/2023\\nAmy Forsey\\nIan S wain', start_char_idx=None, end_char_idx=None, text_template='{metadata_str}\\n\\n{content}', metadata_template='{key}: {value}', metadata_seperator='\\n'),\n",
              " Document(id_='12606b54-6441-4025-8940-85bac9935aa2', embedding=None, metadata={'page_label': '1', 'file_name': 'Loud noise from speakers won’t stop.pdf', 'file_path': 'data\\\\Loud noise from speakers won’t stop.pdf', 'file_type': 'application/pdf', 'file_size': 129776, 'creation_date': '2023-12-01', 'last_modified_date': '2023-11-07', 'last_accessed_date': '2023-12-01'}, excluded_embed_metadata_keys=['file_name', 'file_type', 'file_size', 'creation_date', 'last_modified_date', 'last_accessed_date'], excluded_llm_metadata_keys=['file_name', 'file_type', 'file_size', 'creation_date', 'last_modified_date', 'last_accessed_date'], relationships={}, hash='69d53b2cbe7acfd7206ab0f4f1cc236b74e35e4a10c2225cdabda8a16d7adb34', text='11/7/23, 9:12 PM Loud noise from speakers won’t stop\\nhttps://utoronto.sharepoint.com/sites/lsm-TalkmasterKB/SitePages/Troubleshooting-Guides/Loud-noise-from-speakers-wont-stop.aspx 1/2TROUBLESHOOTING GUIDE:\\nLoud noise fr om speak ers won’t st op\\nKB Home  > User T roubleshooting \\xa0> Loud noise from speakers won\\'t stop\\nIf the user describes a loud, continuous noise that sounds lik e \"static\", “whit e\\nnoise” or “wind” , that means that the audio amp has blown. Send a co-pilot to the\\nroom immediately  🚨\\n(typically , we cannot hear the nois e over the int ercom, becaus e it\\'s outside the audio\\nfrequency b and o f the int ercom)\\nA temporar y fix, while they \\'re waiting for the co-pilot t o\\narrive\\xa0\\nThe user can eliminate the noise themselves—temporarily—if they unplug the\\nTeaching S tation fr om its pow er outlet . BUT they will lose the intercom connection\\nas well – and their projected image.\\xa0\\nK eyw or ds: #whoosh #oc ean #can \\'t #hear #nois y #typhoon #v olume               \\nLoud noise fr om speak ers changelog See all\\n\\ue710New\\ue70d\\uf247Edit in grid view \\ue72dShare Export to Excel \\ue712\\uea37Newest Entries \\ue70d\\ue946', start_char_idx=None, end_char_idx=None, text_template='{metadata_str}\\n\\n{content}', metadata_template='{key}: {value}', metadata_seperator='\\n'),\n",
              " Document(id_='04fa047a-9598-4ad6-b346-c3e48390fe17', embedding=None, metadata={'page_label': '2', 'file_name': 'Loud noise from speakers won’t stop.pdf', 'file_path': 'data\\\\Loud noise from speakers won’t stop.pdf', 'file_type': 'application/pdf', 'file_size': 129776, 'creation_date': '2023-12-01', 'last_modified_date': '2023-11-07', 'last_accessed_date': '2023-12-01'}, excluded_embed_metadata_keys=['file_name', 'file_type', 'file_size', 'creation_date', 'last_modified_date', 'last_accessed_date'], excluded_llm_metadata_keys=['file_name', 'file_type', 'file_size', 'creation_date', 'last_modified_date', 'last_accessed_date'], relationships={}, hash='4ddc4d9d993e74434f91f5b9a596c7fc76a636c620b56f61c4754b67b7a07f41', text='11/7/23, 9:12 PM Loud noise from speakers won’t stop\\nhttps://utoronto.sharepoint.com/sites/lsm-TalkmasterKB/SitePages/Troubleshooting-Guides/Loud-noise-from-speakers-wont-stop.aspx 2/2Proper ties\\nVerify after:\\nPage owner(s)Description o f …\\ue70d Date Updat ed:\\ue70d\\uee69 Updat ed by: \\ue70d\\nBuilt beta version\\non Talkmaster KB\\nsite11/15/2022\\nIan S wain\\nAdded lots of their\\nown notes8/15/2022\\nAlex W erden\\nMichael Duffield\\nCreated first\\nversion8/5/2022\\nIan S wain\\nApril 18\\nJoshua Chau\\n', start_char_idx=None, end_char_idx=None, text_template='{metadata_str}\\n\\n{content}', metadata_template='{key}: {value}', metadata_seperator='\\n'),\n",
              " Document(id_='c856286a-6f38-4e4c-ab12-5f8e7bdc6f6f', embedding=None, metadata={'page_label': '1', 'file_name': 'No audio from source device on room speakers.pdf', 'file_path': 'data\\\\No audio from source device on room speakers.pdf', 'file_type': 'application/pdf', 'file_size': 258045, 'creation_date': '2023-12-01', 'last_modified_date': '2023-11-07', 'last_accessed_date': '2023-12-01'}, excluded_embed_metadata_keys=['file_name', 'file_type', 'file_size', 'creation_date', 'last_modified_date', 'last_accessed_date'], excluded_llm_metadata_keys=['file_name', 'file_type', 'file_size', 'creation_date', 'last_modified_date', 'last_accessed_date'], relationships={}, hash='91db2043008b2ee0acf26e2326c4d388de48e6cb301896e11830710b743f9777', text=\"11/7/23, 9:09 PM No audio from source device on room speakers\\nhttps://utoronto.sharepoint.com/sites/lsm-TalkmasterKB/SitePages/Troubleshooting-Guides/No-audio-from-source-device-on-room-speakers.aspx 1/8TROUBLESHOOTING GUIDE:\\nNo audio fr om sour ce device on r oom speak ers\\nKB Home \\xa0>\\xa0User T roubleshooting \\xa0> No audio from source device on room speakers\\nQuestions\\nOn the touchscreen, is “Sour ce audio ” unmut ed\\xa0and turned up high enough?        \\nOn the touchscreen, has the correct source been select ed & sent t o\\nprojector?\\nOn the source\\xa0device's\\xa0 audio output settings ,\\xa0is\\xa0Crestron\\xa0selected?\\nAre you using your own\\xa0device, or using the built-in R oom PC?\\nIs it a Zoom call  that you want to be able to\\xa0hear?\\nHas every stage  of the audio signal path\\xa0been unmuted AND turned up to\\nmaximum?\\nIs it a Jr Station, TDM, TDP or ViewBo ard?\\nTry searching T o-Do  to see if ther e are any kno wn issues with this r oom       \\nIs it possible that the video or audio is just v ery quiet ?\\n       Actions\\nmacOS\\nHow to find out the user's version o f macOS\\nHow to change the audio output  on macOS V entura  (version 13)\\nHow to change the audio output  on macOS Mont erey (version 12) /\\xa0 Big\\nSur (version 11)\\nWindows\\xa0 (including\\xa0R oom PC)\\nHow to change the audio output  on Windows\", start_char_idx=None, end_char_idx=None, text_template='{metadata_str}\\n\\n{content}', metadata_template='{key}: {value}', metadata_seperator='\\n'),\n",
              " Document(id_='9697e607-731d-477d-8280-9560108d314c', embedding=None, metadata={'page_label': '2', 'file_name': 'No audio from source device on room speakers.pdf', 'file_path': 'data\\\\No audio from source device on room speakers.pdf', 'file_type': 'application/pdf', 'file_size': 258045, 'creation_date': '2023-12-01', 'last_modified_date': '2023-11-07', 'last_accessed_date': '2023-12-01'}, excluded_embed_metadata_keys=['file_name', 'file_type', 'file_size', 'creation_date', 'last_modified_date', 'last_accessed_date'], excluded_llm_metadata_keys=['file_name', 'file_type', 'file_size', 'creation_date', 'last_modified_date', 'last_accessed_date'], relationships={}, hash='d672516adc3a2ee132813152ee30459ac91a53a0da82a6ceeef4c6c0da1c5120', text='11/7/23, 9:09 PM No audio from source device on room speakers\\nhttps://utoronto.sharepoint.com/sites/lsm-TalkmasterKB/SitePages/Troubleshooting-Guides/No-audio-from-source-device-on-room-speakers.aspx 2/8Questions\\nOn the t ouchscr een, is “Sour ce audio ” unmut ed and turned up high\\nenough?\\nTry turning it up quite high, in case the source audio happens to be extremely\\nquiet\\nOn the t ouchscr een, has the corr ect sour ce been select ed & sent t o\\nproject or?\\nBecause audio will only play over the in-room speaker system when the\\ndevice\\xa0you want to play\\xa0has been sent to projector\\nEven if you\\'re just playing audio, you must hit \" Send t o projector\"\\nOn the sour ce device \\'s audio output settings, is Crestron select ed?\\nDepending on the room & the source device, this output might instead\\xa0be\\ncalled:\\nHDMI\\n       NP-P401W\\nAre you using y our own device, or using the built -in R oom PC ?\\nIf they\\'re using their own device, ask what operating system it uses and check\\nwhether their audio output settings ar e corr ect\\nIf they\\'re using the R oom PC, follow the instructions for changing the audio\\noutput settings on Windows\\nIs it a Zoom call that y ou want t o be able t o\\xa0hear?\\nIf yes, then follow the troubleshooting instructions for Zoom issues', start_char_idx=None, end_char_idx=None, text_template='{metadata_str}\\n\\n{content}', metadata_template='{key}: {value}', metadata_seperator='\\n'),\n",
              " Document(id_='243cb08c-180e-4aa5-a043-2597a0544570', embedding=None, metadata={'page_label': '3', 'file_name': 'No audio from source device on room speakers.pdf', 'file_path': 'data\\\\No audio from source device on room speakers.pdf', 'file_type': 'application/pdf', 'file_size': 258045, 'creation_date': '2023-12-01', 'last_modified_date': '2023-11-07', 'last_accessed_date': '2023-12-01'}, excluded_embed_metadata_keys=['file_name', 'file_type', 'file_size', 'creation_date', 'last_modified_date', 'last_accessed_date'], excluded_llm_metadata_keys=['file_name', 'file_type', 'file_size', 'creation_date', 'last_modified_date', 'last_accessed_date'], relationships={}, hash='69245e60fc993b48887f6efc9f490eb09289000614c53b3aa8832aabbd79f156', text='11/7/23, 9:09 PM No audio from source device on room speakers\\nhttps://utoronto.sharepoint.com/sites/lsm-TalkmasterKB/SitePages/Troubleshooting-Guides/No-audio-from-source-device-on-room-speakers.aspx 3/8Has ev ery stage o f the audio signal p ath been unmut ed AND turned up t o\\nmaximum?\\nHave they unmuted and turned up the audio at every stage in the chain:\\xa0\\nthe YouTube int erface or browser tab  or application  where the audio is\\nplaying from?\\ntheir device \\'s audio settings ?\\nand on the touchscr een contr ols?\\nIs it a Jr S tation, TDM, TDP or ViewBo ard?\\nMake sure that you try turning up the push-butt on volume contr ols in\\nthese rooms. Y ou may have to hit the buttons many times  to hear any\\ndifference.\\n       works via both remote Xpanel and in-room buttons\\nThe volume dial  works in some rooms, but it tends to be less reliable than the\\nbuttons. Sometimes you have to turn it many times  to hear any difference.\\nSometimes the in-room panel controls don\\'t work, but the room\\xa0can be\\ncontrolled remotely using the Xpanel. So try that too.       \\nTry searching T o-Do  to see if ther e are any kno wn issues with this r oom\\nIs there a known problem with the audio amp ?\\nIs there a known problem\\xa0with the in-room speak ers?\\nIs there a temporar y speak er set up in the room?\\nIs it listed in R oom Notes under \"Audio volume in these rooms can only be\\ncontrolled via...\"?\\nyou\\'ll see a note explaining\\xa0how the 20+ Jr station rooms on this\\nlist\\xa0require you to send a technician to the room to adjust the audio lev el\\nmanually \\xa0🚨\\nit\\'s because these rooms have a\\xa0signal path & Crestron program that do\\nnot allow us to change the volume level with opening up the station.\\xa0\\nIs it possible that the video or audio is just v ery quiet ?', start_char_idx=None, end_char_idx=None, text_template='{metadata_str}\\n\\n{content}', metadata_template='{key}: {value}', metadata_seperator='\\n'),\n",
              " Document(id_='5b9430e0-b5f4-4d68-9cd4-3d6c6f1872bd', embedding=None, metadata={'page_label': '4', 'file_name': 'No audio from source device on room speakers.pdf', 'file_path': 'data\\\\No audio from source device on room speakers.pdf', 'file_type': 'application/pdf', 'file_size': 258045, 'creation_date': '2023-12-01', 'last_modified_date': '2023-11-07', 'last_accessed_date': '2023-12-01'}, excluded_embed_metadata_keys=['file_name', 'file_type', 'file_size', 'creation_date', 'last_modified_date', 'last_accessed_date'], excluded_llm_metadata_keys=['file_name', 'file_type', 'file_size', 'creation_date', 'last_modified_date', 'last_accessed_date'], relationships={}, hash='a6e4a688ece282c3cb4c15aa59495afaedfe9a84f14c2abc025fde6c884a65d1', text='11/7/23, 9:09 PM No audio from source device on room speakers\\nhttps://utoronto.sharepoint.com/sites/lsm-TalkmasterKB/SitePages/Troubleshooting-Guides/No-audio-from-source-device-on-room-speakers.aspx 4/8Audio or video that is recorded on a phone or other per sonal device  is\\n\"unmastered,\" and therefore can be much quieter than the audio on a\\nstreaming service like Y ouTube or a social media site like Instagram or TikT ok\\xa0\\xa0\\nIf it turns out to be a personal video, send a co-pilot to the room to adjust the\\nvolume 🚨\\nIt\\'s usually possible for co-pilots to physically adjust the volume of the\\naudio amplifier\\xa0\\nActions\\nmacOS\\nHow t o find out the user\\' s version o f macOS\\n\"At the top-left of your laptop screen, in the menu bar, click the Apple icon ,\\nthen select About This Mac  from the menu.\"\\n\"In the window that pops up, it will say something like macOS Mont erey,\\nversion 12.6.3 . Can you please read out to me what it says\\xa0on your laptop?\"\\nHow t o change the audio output on macOS V entura (v ersion 13)\\n\"I\\'m going to read out some instructions for you to follow, to switch your\\ncomputer\\'s\\xa0output to the in-room speakers:\"\\nAt the top-left of your screen, in the menu bar, click the\\xa0 Apple icon\\nOr, at the top-right of your screen in the menu bar, click the speak er icon\\nand select \" Crestron\", \"HDMI \", or        \"NP-P401W \" in the list of outputs\\nSelect System Settings\\nOn the left-hand side list of menus, find and click the\\xa0 Sound  icon\\nUnder Output  in the Sound menu, select \" Crestron\", \"HDMI \", or        \"NP-\\nP401W \"\\nIf they are using a Y amaha videoconferencing soundbar, ask\\xa0the user to\\nchange their laptop output to \" Yamaha CS-700 \"', start_char_idx=None, end_char_idx=None, text_template='{metadata_str}\\n\\n{content}', metadata_template='{key}: {value}', metadata_seperator='\\n'),\n",
              " Document(id_='4c4c4a87-e795-4bf2-8051-e55fc53e3780', embedding=None, metadata={'page_label': '5', 'file_name': 'No audio from source device on room speakers.pdf', 'file_path': 'data\\\\No audio from source device on room speakers.pdf', 'file_type': 'application/pdf', 'file_size': 258045, 'creation_date': '2023-12-01', 'last_modified_date': '2023-11-07', 'last_accessed_date': '2023-12-01'}, excluded_embed_metadata_keys=['file_name', 'file_type', 'file_size', 'creation_date', 'last_modified_date', 'last_accessed_date'], excluded_llm_metadata_keys=['file_name', 'file_type', 'file_size', 'creation_date', 'last_modified_date', 'last_accessed_date'], relationships={}, hash='c73a19fc0a7e9c86d1d994175823fa365dc9be34a7472f53825249c97689c687', text='11/7/23, 9:09 PM No audio from source device on room speakers\\nhttps://utoronto.sharepoint.com/sites/lsm-TalkmasterKB/SitePages/Troubleshooting-Guides/No-audio-from-source-device-on-room-speakers.aspx 5/8macOS V entura (v ersion 13) audio settings\\nHow t o change the audio output on macOS Mont erey (v ersion 12) / Big\\nSur (v ersion 11)\\n\"I\\'m going to read out some instructions for you to follow, to switch your\\ncomputer\\'s\\xa0output to the in-room speakers:\"\\nAt the top-left of your screen, in the menu bar, click the\\xa0 Apple icon\\nOr, at the top-right of your screen in the menu bar, click the speak er icon\\nand select \" Crestron\", \"HDMI \", or        \"NP-P401W \" in the list of outputs\\nSelect System Pr eferences\\nFind the Sound icon , and select Output\\nSelect \" Crestron\", \"HDMI \", or        \"NP-P401W \"\\nIf they are using a Y amaha videoconferencing soundbar, ask the user to\\nchange their laptop output to \" Yamaha CS-700 \"', start_char_idx=None, end_char_idx=None, text_template='{metadata_str}\\n\\n{content}', metadata_template='{key}: {value}', metadata_seperator='\\n'),\n",
              " Document(id_='8143306b-4209-4f6f-8c3e-3f2623a2a97f', embedding=None, metadata={'page_label': '6', 'file_name': 'No audio from source device on room speakers.pdf', 'file_path': 'data\\\\No audio from source device on room speakers.pdf', 'file_type': 'application/pdf', 'file_size': 258045, 'creation_date': '2023-12-01', 'last_modified_date': '2023-11-07', 'last_accessed_date': '2023-12-01'}, excluded_embed_metadata_keys=['file_name', 'file_type', 'file_size', 'creation_date', 'last_modified_date', 'last_accessed_date'], excluded_llm_metadata_keys=['file_name', 'file_type', 'file_size', 'creation_date', 'last_modified_date', 'last_accessed_date'], relationships={}, hash='390781bc3b7b65fa51ea5ae720357b1bb84093160d8b20cbe928df5e026c3536', text='11/7/23, 9:09 PM No audio from source device on room speakers\\nhttps://utoronto.sharepoint.com/sites/lsm-TalkmasterKB/SitePages/Troubleshooting-Guides/No-audio-from-source-device-on-room-speakers.aspx 6/8Windows (including\\xa0R oom PC)\\nHow t o change the audio output on Windows\\n\"I\\'m going to read out some instructions for you to follow, to switch your\\ncomputer\\'s\\xa0output to the in-room speakers:\"\\nAt the bottom right of your Windows screen, in the taskbar, you\\'ll see a\\nspeak er icon .\\nLeft-click on the speaker icon, and a horizont al volume control slider\\nshould appear.\\nJust above the volume control slider, you should now see some text with a\\nsmall, upwar d-facing arr ow t o the r ight o f it.\\nLeft-click on that text\\nThis should bring up a menu that says Select playb ack device , with a list of\\noptions underneath it\\n\"Can you please read me the list of options that appear there?\"\\nAsk them to select \" Crestron\" (or it might say \" HDMI \" or\\xa0\" NP-P401W \")\\nIf you\\'re not getting an option to change the speaker output to\\nHDMI/Crestron, try:\\nun-plugging and r e-plugging  the HDMI cable or adapter from the\\ncomputer\\nrestar ting\\xa0the laptop\\nConfirm whether this\\xa0worked by playing some video or audio from the computer.', start_char_idx=None, end_char_idx=None, text_template='{metadata_str}\\n\\n{content}', metadata_template='{key}: {value}', metadata_seperator='\\n'),\n",
              " Document(id_='d9dfd3dd-d794-4097-b5af-2ea720274f16', embedding=None, metadata={'page_label': '7', 'file_name': 'No audio from source device on room speakers.pdf', 'file_path': 'data\\\\No audio from source device on room speakers.pdf', 'file_type': 'application/pdf', 'file_size': 258045, 'creation_date': '2023-12-01', 'last_modified_date': '2023-11-07', 'last_accessed_date': '2023-12-01'}, excluded_embed_metadata_keys=['file_name', 'file_type', 'file_size', 'creation_date', 'last_modified_date', 'last_accessed_date'], excluded_llm_metadata_keys=['file_name', 'file_type', 'file_size', 'creation_date', 'last_modified_date', 'last_accessed_date'], relationships={}, hash='537f6b74eeaeab70a2901e3b0084d539edb5586012e716f26aaecfa0349e0b6c', text=\"11/7/23, 9:09 PM No audio from source device on room speakers\\nhttps://utoronto.sharepoint.com/sites/lsm-TalkmasterKB/SitePages/Troubleshooting-Guides/No-audio-from-source-device-on-room-speakers.aspx 7/8Keywords: #can 't #hear #silent #not #w orking #s ystem #quiet #br oken #o ff #speak er\\n#system #st ereo #v olume #dial #knob                      \\nNo audio fr om sour ce device changelog See all\\n\\ue710New\\ue70d\\uf247Edit in grid view \\ue72dShare Export to Excel \\ue712\\uea37Newest Entries \\ue70d\\ue946\\nDescription o f …\\ue70d Date Updat ed:\\ue70d\\uee69 Updat ed by: \\ue70d\", start_char_idx=None, end_char_idx=None, text_template='{metadata_str}\\n\\n{content}', metadata_template='{key}: {value}', metadata_seperator='\\n'),\n",
              " Document(id_='afa46ada-7511-450a-a896-becbaa552cca', embedding=None, metadata={'page_label': '8', 'file_name': 'No audio from source device on room speakers.pdf', 'file_path': 'data\\\\No audio from source device on room speakers.pdf', 'file_type': 'application/pdf', 'file_size': 258045, 'creation_date': '2023-12-01', 'last_modified_date': '2023-11-07', 'last_accessed_date': '2023-12-01'}, excluded_embed_metadata_keys=['file_name', 'file_type', 'file_size', 'creation_date', 'last_modified_date', 'last_accessed_date'], excluded_llm_metadata_keys=['file_name', 'file_type', 'file_size', 'creation_date', 'last_modified_date', 'last_accessed_date'], relationships={}, hash='cfe75907a170664cc5b27fcc787244fc0b711f3f18d8f0514125b77bd5be0678', text='11/7/23, 9:09 PM No audio from source device on room speakers\\nhttps://utoronto.sharepoint.com/sites/lsm-TalkmasterKB/SitePages/Troubleshooting-Guides/No-audio-from-source-device-on-room-speakers.aspx 8/8\\nAdded Zoom as a\\nquestion (because\\nusers often don\\'t\\nmention it\\'s Zoom\\nthey\\'re having\\ntrouble with)5/12/2023\\nIan S wain\\nUpdated to new\\nmodel template5/2/2023\\nIan S wain\\nCrafted some easy-\\nto-follow bullets\\nfor the Windows\\nsection. Plus added\\n\"Room PC\" to the\\nname of that\\nsection (we;ve been\\nreceiving a steady\\nflow of calls where\\nthe R oom PC\\'s\\naudio output has\\nchanged)1/31/2023\\nIan S wain', start_char_idx=None, end_char_idx=None, text_template='{metadata_str}\\n\\n{content}', metadata_template='{key}: {value}', metadata_seperator='\\n'),\n",
              " Document(id_='ac2ae577-6dd0-46f2-a790-b1e912f828e3', embedding=None, metadata={'page_label': '1', 'file_name': 'Wireless Lav microphone not working.pdf', 'file_path': 'data\\\\Wireless Lav microphone not working.pdf', 'file_type': 'application/pdf', 'file_size': 415262, 'creation_date': '2023-12-01', 'last_modified_date': '2023-11-07', 'last_accessed_date': '2023-12-01'}, excluded_embed_metadata_keys=['file_name', 'file_type', 'file_size', 'creation_date', 'last_modified_date', 'last_accessed_date'], excluded_llm_metadata_keys=['file_name', 'file_type', 'file_size', 'creation_date', 'last_modified_date', 'last_accessed_date'], relationships={}, hash='17d37563fe0085ab2c9bab771d63ee963b1be1c0984dd0f22fabdee102a2c88c', text='11/7/23, 9:09 PM Wireless Lav microphone not working\\nhttps://utoronto.sharepoint.com/sites/lsm-TalkmasterKB/SitePages/Troubleshooting-Guides/Wireless-Lav-microphone-not-working.aspx 1/6TROUBLESHOOTING GUIDE:\\nWireless Lav micr ophone not w orking\\nKB Home  > User T roubleshooting \\xa0> Wireless Lav microphone not working\\nBefore trying to resolve an issue with the wireless lav microphone, determine which\\nof the two models we use is installed in the room:\\nShure SLX1  – uses AA batteries\\xa0\\nShure GLXD4  - uses proprietary rechargeable batteries\\xa0\\nTo look up which rooms use which models, visit the\\xa0 Wireless Lav List . Note: H5, J3,\\nand L4 are all different varieties of SLX1.\\nWireless Lav Mic T ypes\\nCont ents\\nPossible Solutions:\\n', start_char_idx=None, end_char_idx=None, text_template='{metadata_str}\\n\\n{content}', metadata_template='{key}: {value}', metadata_seperator='\\n'),\n",
              " Document(id_='6739b840-83cc-4b36-8594-39f6227731d5', embedding=None, metadata={'page_label': '2', 'file_name': 'Wireless Lav microphone not working.pdf', 'file_path': 'data\\\\Wireless Lav microphone not working.pdf', 'file_type': 'application/pdf', 'file_size': 415262, 'creation_date': '2023-12-01', 'last_modified_date': '2023-11-07', 'last_accessed_date': '2023-12-01'}, excluded_embed_metadata_keys=['file_name', 'file_type', 'file_size', 'creation_date', 'last_modified_date', 'last_accessed_date'], excluded_llm_metadata_keys=['file_name', 'file_type', 'file_size', 'creation_date', 'last_modified_date', 'last_accessed_date'], relationships={}, hash='6b6b66b6013cd01c02095a7e7dd156eec1dd3079a2caa84fda51cdb38744b4b6', text='11/7/23, 9:09 PM Wireless Lav microphone not working\\nhttps://utoronto.sharepoint.com/sites/lsm-TalkmasterKB/SitePages/Troubleshooting-Guides/Wireless-Lav-microphone-not-working.aspx 2/6Is the Wireless Microphone source unmuted and is the volume turned up on\\nthe Crestron touchscreen?\\nIs the wireless belt pack turned\\xa0on and unmuted?\\nIs the gain switch on the wireless unit set to “mic” and are all lav microphone\\ncomponents in working order?\\nSLX1 only: Is the gain switch set to “mic”?\\nIs the lav microphone cable connected to the transmitter unit?\\xa0\\nSend a co-pilot to investigate further\\nPossible Solutions:\\xa0\\nIs the Wir eless Micr ophone sour ce unmut ed and is the\\nvolume turned up on the Cr estron touchscr een?\\xa0\\nGuide the user through unmuting the Wireless Microphone source on the\\nCrestron touchscreen and adjusting the volume.\\xa0\\nThe Wireless Microphone source can also be controlled remotely using\\nRoomView.\\nIs the wir eless lav belt p ack turned on and unmut ed?\\xa0\\nAsk the user what colour the light is on the top of the unit to make sure the\\nmicrophone is operating normally.Crestron touchscreen volume controls\\n', start_char_idx=None, end_char_idx=None, text_template='{metadata_str}\\n\\n{content}', metadata_template='{key}: {value}', metadata_seperator='\\n'),\n",
              " Document(id_='7b98e6f1-5bce-4ec1-8ccb-394cd8550c3e', embedding=None, metadata={'page_label': '3', 'file_name': 'Wireless Lav microphone not working.pdf', 'file_path': 'data\\\\Wireless Lav microphone not working.pdf', 'file_type': 'application/pdf', 'file_size': 415262, 'creation_date': '2023-12-01', 'last_modified_date': '2023-11-07', 'last_accessed_date': '2023-12-01'}, excluded_embed_metadata_keys=['file_name', 'file_type', 'file_size', 'creation_date', 'last_modified_date', 'last_accessed_date'], excluded_llm_metadata_keys=['file_name', 'file_type', 'file_size', 'creation_date', 'last_modified_date', 'last_accessed_date'], relationships={}, hash='9ae619cb9534926bdad34a83b882a22e8d1cecba88b85b6998ee16f8ab6f42e1', text='11/7/23, 9:09 PM Wireless Lav microphone not working\\nhttps://utoronto.sharepoint.com/sites/lsm-TalkmasterKB/SitePages/Troubleshooting-Guides/Wireless-Lav-microphone-not-working.aspx 3/6Wireless Lav Mic Indicat or Lights\\nGreen indicates the wireless mic unit is turned on & unmuted.\\xa0\\nNo colour ed light indicates\\xa0the wireless mic unit is probably turned off. T o turn it\\non:\\xa0\\nSLX1 : Hold the power/mute button until the light turns on.\\xa0\\nGLXD4 : Flip the power switch to the on position as labeled on the\\nmicrophone.\\xa0\\nTurning on the Wir eless Lav Mics\\nAmber \\xa0\\nSLX1 : Indicates the unit is\\xa0muted. The wireless lav microphone can be unmuted\\nby pressing the power/mute button on the unit once.\\xa0\\nGLXD4 : Indicates a\\xa0battery error. The battery needs to be replaced.\\xa0\\nSteady red \\xa0indicates the unit is\\xa0low battery. Suggest a change of batteries.\\xa0', start_char_idx=None, end_char_idx=None, text_template='{metadata_str}\\n\\n{content}', metadata_template='{key}: {value}', metadata_seperator='\\n'),\n",
              " Document(id_='61bd451b-bdfb-4fb9-a416-ae719b210de5', embedding=None, metadata={'page_label': '4', 'file_name': 'Wireless Lav microphone not working.pdf', 'file_path': 'data\\\\Wireless Lav microphone not working.pdf', 'file_type': 'application/pdf', 'file_size': 415262, 'creation_date': '2023-12-01', 'last_modified_date': '2023-11-07', 'last_accessed_date': '2023-12-01'}, excluded_embed_metadata_keys=['file_name', 'file_type', 'file_size', 'creation_date', 'last_modified_date', 'last_accessed_date'], excluded_llm_metadata_keys=['file_name', 'file_type', 'file_size', 'creation_date', 'last_modified_date', 'last_accessed_date'], relationships={}, hash='83ec4ab8f9694d3b6d9a113bff9f0edc57544b570b9e6e6ee4330a28e3a29d20', text='11/7/23, 9:09 PM Wireless Lav microphone not working\\nhttps://utoronto.sharepoint.com/sites/lsm-TalkmasterKB/SitePages/Troubleshooting-Guides/Wireless-Lav-microphone-not-working.aspx 4/6SLX1 : Spare AA batteries may be located in the microphone pouch or the little\\nmicrophone cabinet.\\xa0\\nGLXD4 : A replacement rechargeable battery is in the charging unit (if installed\\nin the teaching station) located beside the room PC and/or in the microphone\\nreceiver. Send a co-pilot if the microphone receiver needs to be accessed.\\nWhich rooms have charging units is noted in the Wireless Lav List .\\nFlashing red  indicates the battery is dead.\\xa0\\nIf there aren’t any spare AA batteries in the microphone pouch or located in\\nthe podium microphone cabinet, send a co-pilot.\\xa0\\nIs the gain swit ch on the wir eless unit set t o “mic” and ar e all\\nlav micr ophone components in w orking or der?\\xa0\\nSLX1 only: Is the swit ch on the wir eless belt p ack set t o “mic”?\\nOn the side of the wireless belt pack that you wear, there should be a small\\nswitch that says \"minus-10, zer o, mic\" . This switch sets the volume range for\\nthe wireless mic. Please mak e sur e that it\\' s set t o “mic” \\xa0– otherwise the audio\\nlevel will be so quiet that you won\\'t be able to\\xa0hear it. \\xa0\\nSLX1 Gain S witch\\nIs the lav micr ophone cable connect ed to the transmitt er unit ?\\xa0\\nAsk the user to disconnect the lav microphone cable from the transmitter unit\\nand reconnect it, ensuring a tight connection.\\xa0\\n', start_char_idx=None, end_char_idx=None, text_template='{metadata_str}\\n\\n{content}', metadata_template='{key}: {value}', metadata_seperator='\\n'),\n",
              " Document(id_='23b4c24e-caa2-4f1b-aa57-a4cacf813e5c', embedding=None, metadata={'page_label': '5', 'file_name': 'Wireless Lav microphone not working.pdf', 'file_path': 'data\\\\Wireless Lav microphone not working.pdf', 'file_type': 'application/pdf', 'file_size': 415262, 'creation_date': '2023-12-01', 'last_modified_date': '2023-11-07', 'last_accessed_date': '2023-12-01'}, excluded_embed_metadata_keys=['file_name', 'file_type', 'file_size', 'creation_date', 'last_modified_date', 'last_accessed_date'], excluded_llm_metadata_keys=['file_name', 'file_type', 'file_size', 'creation_date', 'last_modified_date', 'last_accessed_date'], relationships={}, hash='e7da94877d7ada6a387a0878dbb9059a64ca1e9cb35e753e1d89756b10fdd6ae', text='11/7/23, 9:09 PM Wireless Lav microphone not working\\nhttps://utoronto.sharepoint.com/sites/lsm-TalkmasterKB/SitePages/Troubleshooting-Guides/Wireless-Lav-microphone-not-working.aspx 5/6Send a co-pilot t o inv estigat e fur ther 🚨\\nIf none of the above solutions resolve the issue, it’s time to call for\\nreinforcements.\\xa0\\nThere may be an issue that can only be resolved in-person by a co-pilot:\\nTransmitter and receiver are out of sync\\xa0\\nReceiver gain turned down\\xa0\\nReceiver turned off\\xa0\\nReceiver disconnected from Crestron controller\\xa0\\nOther audio cabling issues\\nIf the co-pilot provides an update on and/or resolution for the issue, note it in\\nthe Outcome column of the T alkMaster log.\\nK eyw or ds:\\xa0#sound #belt #p ack #clip #tr ansmitt er #unit #wless #wir eless #por table\\n#lavalier       \\nWireless Lav micr ophone not w orking changelog See all\\n\\ue710New\\ue70d\\uf247Edit in grid view \\ue72dShare Export to Excel \\ue712\\uea37Newest Entries \\ue70d\\ue946\\nDescription o f …\\ue70d Date Updat ed:\\ue70d\\uee69 Updat ed by: \\ue70d', start_char_idx=None, end_char_idx=None, text_template='{metadata_str}\\n\\n{content}', metadata_template='{key}: {value}', metadata_seperator='\\n'),\n",
              " Document(id_='acd30309-78de-4c91-9cd7-6e3b77765d19', embedding=None, metadata={'page_label': '6', 'file_name': 'Wireless Lav microphone not working.pdf', 'file_path': 'data\\\\Wireless Lav microphone not working.pdf', 'file_type': 'application/pdf', 'file_size': 415262, 'creation_date': '2023-12-01', 'last_modified_date': '2023-11-07', 'last_accessed_date': '2023-12-01'}, excluded_embed_metadata_keys=['file_name', 'file_type', 'file_size', 'creation_date', 'last_modified_date', 'last_accessed_date'], excluded_llm_metadata_keys=['file_name', 'file_type', 'file_size', 'creation_date', 'last_modified_date', 'last_accessed_date'], relationships={}, hash='672c27397bde395c0db7188d6726f93be09e6c200f4adccfd0d5b2ce28785dbc', text='11/7/23, 9:09 PM Wireless Lav microphone not working\\nhttps://utoronto.sharepoint.com/sites/lsm-TalkmasterKB/SitePages/Troubleshooting-Guides/Wireless-Lav-microphone-not-working.aspx 6/6Verify after:\\nPage owner(s)\\nAdded anchors for\\nbetter navigability.12/15/2022\\nJoshua Chau\\nCreated Sharepoint\\npage on T alkmaster\\nKB site.11/10/2022\\nJoshua Chau\\nSuggested\\n(tracked) changes,\\ndeleted column\\nview (it was making\\nthe editing process\\ntoo complicated).8/10/2022\\nIan S wainAugust 11\\nJoshua Chau\\n', start_char_idx=None, end_char_idx=None, text_template='{metadata_str}\\n\\n{content}', metadata_template='{key}: {value}', metadata_seperator='\\n')]"
            ]
          },
          "execution_count": 6,
          "metadata": {},
          "output_type": "execute_result"
        }
      ],
      "source": [
        "from llama_index import SimpleDirectoryReader\n",
        "\n",
        "# load documents\n",
        "documents = SimpleDirectoryReader(\"./data/\").load_data()\n",
        "documents"
      ]
    },
    {
      "cell_type": "code",
      "execution_count": 7,
      "metadata": {
        "colab": {
          "base_uri": "https://localhost:8080/"
        },
        "id": "j_Tj-ML3swPR",
        "outputId": "27aca453-ae8b-4028-a8b1-a52d60b7c039"
      },
      "outputs": [
        {
          "data": {
            "text/plain": [
              "19"
            ]
          },
          "execution_count": 7,
          "metadata": {},
          "output_type": "execute_result"
        }
      ],
      "source": [
        "len(documents)"
      ]
    },
    {
      "cell_type": "markdown",
      "metadata": {
        "id": "ERgYIseyyy2P"
      },
      "source": [
        "#### The above shows the len of documents is 19. There are 19 pages in total of 4 docs. So that means each page represents one item in documents. Generalizing it, there will be n items in documents if there are total n pages."
      ]
    },
    {
      "cell_type": "code",
      "execution_count": 8,
      "metadata": {
        "colab": {
          "base_uri": "https://localhost:8080/"
        },
        "id": "P_iZSv3LjFU3",
        "outputId": "3324dbc3-6339-4cf7-b618-2ee4e3f79131"
      },
      "outputs": [
        {
          "data": {
            "text/plain": [
              "{'page_label': '1',\n",
              " 'file_name': 'Audio or video on newer Macs is choppy or freezing.pdf',\n",
              " 'file_path': 'data\\\\Audio or video on newer Macs is choppy or freezing.pdf',\n",
              " 'file_type': 'application/pdf',\n",
              " 'file_size': 131777,\n",
              " 'creation_date': '2023-12-01',\n",
              " 'last_modified_date': '2023-11-07',\n",
              " 'last_accessed_date': '2023-12-01'}"
            ]
          },
          "execution_count": 8,
          "metadata": {},
          "output_type": "execute_result"
        }
      ],
      "source": [
        "documents[0].metadata"
      ]
    },
    {
      "cell_type": "code",
      "execution_count": 9,
      "metadata": {
        "colab": {
          "base_uri": "https://localhost:8080/",
          "height": 145
        },
        "id": "qMbuucDkkQdC",
        "outputId": "95ef6e19-f594-4266-a5fe-56d9c1ed3421"
      },
      "outputs": [
        {
          "data": {
            "text/plain": [
              "'11/7/23, 9:11 PM Audio or video on newer Macs is choppy or freezing\\nhttps://utoronto.sharepoint.com/sites/lsm-TalkmasterKB/SitePages/Troubleshooting-Guides/video-playback-on-newer-macs-is-choppy.aspx 1/3TROUBLESHOOTING GUIDE:\\nAudio or video on new er Macs is choppy or\\nfreezing\\nKB Home  > User T roubleshooting \\xa0> Audio or video on newer Macs is choppy\\xa0or freezing\\nThis is an emer ging issue! So when y ou enc ounter it, pleas e mak e an\\xa0extr a effort to\\ndiscuss with the c o-pilot and c ollect det ails for the T alkmast er Log\\xa0\\nIf the\\xa0user complains that their audio or video playback is:\\xa0\\n“choppy\"\\xa0\\n“stuttering”\\nYouTube video skips to the end without playing\\n“freezing\"\\xa0\\n“glitching”\\xa0\\n“speeding up and slowing down”\\xa0\\n“crunchy sounding” \\xa0\\nor similar...\\xa0\\nthen ask them: are you using a new er Mac?\\n(roughly speaking, released from 2020 onward)\\nIf yes, ask them to \" try unplugging the HDMI cable fr om y our lapt op\", then playing\\nthe video or audio again.\\nIf their video or audio plays back normally once the HDMI cable is unplugged, tell\\nthem: \" restar t\\xa0your lapt op with the HDMI cable plugged in .\"\\xa0This should make their\\nvideo or audio play back properly.\\nIf instruct ors are unenthusiastic  about this option because they don\\'t want to\\nrestart their laptop in the middle of a class, you can tell them:\\xa0\\n\"With Macbook models from about 2020 onward, we have found that\\nrestarting your laptop almost always fixes this particular problem\"'"
            ]
          },
          "execution_count": 9,
          "metadata": {},
          "output_type": "execute_result"
        }
      ],
      "source": [
        "documents[0].get_content()"
      ]
    },
    {
      "cell_type": "markdown",
      "metadata": {
        "id": "5dX-XlT1zY-q"
      },
      "source": [
        "#### The above print shows that the following content is in the file.\n",
        "\n",
        "1. URLs\n",
        "2. Time\n",
        "3. Date\n",
        "4. new lines represented by \\n\n",
        "5. Some random text \\xa0\n",
        "6. The path of file in knowledge base listed by kb home > troubleshooting guide > _file_-_name_\n",
        "7. Page numbers listed as 1/2 or 2/3\n",
        "\n",
        "\n"
      ]
    },
    {
      "cell_type": "markdown",
      "metadata": {
        "id": "l8HxOG0B0V_I"
      },
      "source": [
        "#### This can be confirmed while inspecting a document."
      ]
    },
    {
      "cell_type": "markdown",
      "metadata": {
        "id": "l2rIl0NL1Wcx"
      },
      "source": [
        "![Alt text](./screenshot.png)\n",
        "\n"
      ]
    },
    {
      "cell_type": "markdown",
      "metadata": {
        "id": "3Im_a4Pe0VYA"
      },
      "source": [
        "#### We will write a simple cleaning function for it to begin with."
      ]
    },
    {
      "cell_type": "code",
      "execution_count": 10,
      "metadata": {
        "id": "oGXXNnFMkWT7"
      },
      "outputs": [],
      "source": [
        "import re\n",
        "def clean_text(raw_text):\n",
        "    # Step 2: Make the text lowercase\n",
        "    text = raw_text.lower()\n",
        "\n",
        "    # Remove pattern matching \"troubleshooting guide\"\n",
        "    text = re.sub(r'troubleshooting\\s*guide', '', text, flags=re.IGNORECASE)\n",
        "\n",
        "    # Step 3: Remove dates in the format --/--/--\n",
        "    text = re.sub(r'\\b\\d{1,2}/\\d{1,2}/\\d{2,4}\\b', '', text)\n",
        "\n",
        "    # Step 4: Remove time\n",
        "    text = re.sub(r'\\b\\d{1,2}:\\d{1,2}\\s*(?:AM|PM|am|pm)?\\b', '', text)\n",
        "\n",
        "    # Step 5: Remove URLs or links\n",
        "    text = re.sub(r'https?://\\S+|www\\.\\S+|<.*?>', '', text)\n",
        "\n",
        "    # Step 7: Remove page numbers like 1/2, 2/3, etc.\n",
        "    text = re.sub(r'\\d+/\\d+', '', text)\n",
        "\n",
        "    # Step 8: Remove file naming convention\n",
        "    text = re.sub(r'kb home', '', text)\n",
        "    text = re.sub(r'user troubleshooting', '', text)\n",
        "    text = re.sub(r'>', '', text)\n",
        "\n",
        "    # Step 6: Remove unwanted spaces\n",
        "    text = ' '.join(text.split())\n",
        "    # Step 10: Handle new lines\n",
        "    text = text.replace('\\n', ' ')\n",
        "\n",
        "    return text"
      ]
    },
    {
      "cell_type": "code",
      "execution_count": 11,
      "metadata": {
        "id": "HUvUIJRYpQC6"
      },
      "outputs": [],
      "source": [
        "for doc in documents:\n",
        "    doc.set_content(clean_text(doc.get_content()))"
      ]
    },
    {
      "cell_type": "code",
      "execution_count": 12,
      "metadata": {
        "colab": {
          "base_uri": "https://localhost:8080/",
          "height": 145
        },
        "id": "8Erlrr3PpZVT",
        "outputId": "56de0eda-35fd-450c-bb68-ea103f77982c"
      },
      "outputs": [
        {
          "data": {
            "text/plain": [
              "', audio or video on newer macs is choppy or freezing : audio or video on new er macs is choppy or freezing user t roubleshooting audio or video on newer macs is choppy or freezing this is an emer ging issue! so when y ou enc ounter it, pleas e mak e an extr a effort to discuss with the c o-pilot and c ollect det ails for the t alkmast er log if the user complains that their audio or video playback is: “choppy\" “stuttering” youtube video skips to the end without playing “freezing\" “glitching” “speeding up and slowing down” “crunchy sounding” or similar... then ask them: are you using a new er mac? (roughly speaking, released from 2020 onward) if yes, ask them to \" try unplugging the hdmi cable fr om y our lapt op\", then playing the video or audio again. if their video or audio plays back normally once the hdmi cable is unplugged, tell them: \" restar t your lapt op with the hdmi cable plugged in .\" this should make their video or audio play back properly. if instruct ors are unenthusiastic about this option because they don\\'t want to restart their laptop in the middle of a class, you can tell them: \"with macbook models from about 2020 onward, we have found that restarting your laptop almost always fixes this particular problem\"'"
            ]
          },
          "execution_count": 12,
          "metadata": {},
          "output_type": "execute_result"
        }
      ],
      "source": [
        "documents[0].get_content()"
      ]
    },
    {
      "cell_type": "code",
      "execution_count": 13,
      "metadata": {
        "colab": {
          "base_uri": "https://localhost:8080/",
          "height": 127
        },
        "id": "Bc9khvm9pbI8",
        "outputId": "9fa3e967-f5e8-4272-a771-6691abef8502"
      },
      "outputs": [
        {
          "data": {
            "text/plain": [
              "', audio or video on newer macs is choppy or freezing if they\\'re on a full-size or teal station: \"another option is to open your video or audio on the built-in r oom pc, then play it from there\" so far we\\'ve encountered this issue with: youtube videos embedded p owerp oint videos macs plugged directly into hdmi macs using a usb-c adapter we would lo ve to kno w mor e about: which model o f macbook ar e they using? what v ersion o f macos ar e they r unning? what br and o f hdmi adapt er are they using? some o f this info can be found b y asking them t o: go to the apple menu in the t op-lef t corner o f your lapt op screen select about this mac this should sho w the us er some info lik e: macos mont erey version 12.6.3 macbook pr o (13-inch, 2018, four thunderbolt 3 por ts) keywords: #macint osh #mac #mess ed #up #mo vie #audio #s ound #bzzzzzzz #dongle #recent #r ecently #pur chased #macbook #air #v entur a #mont erey #big #sur #macos'"
            ]
          },
          "execution_count": 13,
          "metadata": {},
          "output_type": "execute_result"
        }
      ],
      "source": [
        "documents[1].get_content()"
      ]
    },
    {
      "cell_type": "code",
      "execution_count": 14,
      "metadata": {
        "colab": {
          "base_uri": "https://localhost:8080/",
          "height": 72
        },
        "id": "L4BHacyqs4lF",
        "outputId": "88a7c9c4-81ff-4f24-bbb7-b9e5b5f6274a"
      },
      "outputs": [
        {
          "data": {
            "text/plain": [
              "', audio or video on newer macs is choppy or freezing #version #os #11 #12 #13 #new #bought mac video playb ack choppy changelog see all \\ue710new\\ue70d\\uf247edit in grid view \\ue72dshare export to excel \\ue712\\uea37newest entries \\ue70d\\ue946 description o f …\\ue70d date updat ed:\\ue70d\\uee69 updat ed by: \\ue70d updated to reflect new details provided by ian campbell/2023 ian s wain created new page, in collab w/ amy/2023 amy forsey ian s wain'"
            ]
          },
          "execution_count": 14,
          "metadata": {},
          "output_type": "execute_result"
        }
      ],
      "source": [
        "documents[2].get_content()"
      ]
    },
    {
      "cell_type": "markdown",
      "metadata": {
        "id": "tXCwWMcz2Tlr"
      },
      "source": [
        "#### The content of this last page is cleared on purpose because it contained names of indivisuals working in the department. This page looks something like this\n",
        "\n"
      ]
    },
    {
      "cell_type": "markdown",
      "metadata": {
        "id": "mv4YPpo91517"
      },
      "source": [
        "![Alt text](./screenshot2.png)"
      ]
    },
    {
      "cell_type": "markdown",
      "metadata": {
        "id": "AoUTKvY825Jw"
      },
      "source": [
        "#### Lets just remove anything that comes after last hashtag. Modifying the clean text function"
      ]
    },
    {
      "cell_type": "markdown",
      "metadata": {},
      "source": [
        "#### What happened here is the text that is supposed to get cleaned got split off between pages, so it did worked for first split but the second split remained. I went back to pdfs and checked them all. Some pdfs have the table splitted up so some names are above and some names are below."
      ]
    },
    {
      "cell_type": "markdown",
      "metadata": {},
      "source": [
        "![Alt text](./screenshot3.png)"
      ]
    },
    {
      "cell_type": "markdown",
      "metadata": {},
      "source": [
        "#### I went back to documents and saw a pattern that the names occur in a tabel after some hashtag keywords, there is always a text page owner, and there is always a word named \"changelog\". \n",
        "\n",
        "#### So to tackle the issue of removing names, I modified the cleaning function in such a way that the function will remove everything after the word \"changelog\" has appeared and it will remove everything after the last hashtag and it will erase everything after the patter \"page owner\" is detected. \n"
      ]
    },
    {
      "cell_type": "code",
      "execution_count": 25,
      "metadata": {
        "id": "yR6xC0pMtsPq"
      },
      "outputs": [],
      "source": [
        "import unicodedata\n",
        "def clean_text2(raw_text):\n",
        "    #Make the text lowercase\n",
        "    #Escape Unicode characters\n",
        "    text = unicodedata.normalize('NFKD', raw_text).encode('ascii', 'ignore').decode('utf-8')\n",
        "    text = raw_text.lower()\n",
        "\n",
        "    #Remove pattern matching \"troubleshooting guide\"\n",
        "    text = re.sub(r'troubleshooting\\s*guide', '', text, flags=re.IGNORECASE)\n",
        "\n",
        "    #Remove dates in the format --/--/--\n",
        "    text = re.sub(r'\\b\\d{1,2}/\\d{1,2}/\\d{2,4}\\b', '', text)\n",
        "\n",
        "    #Remove time\n",
        "    text = re.sub(r'\\b\\d{1,2}:\\d{1,2}\\s*(?:AM|PM|am|pm)?\\b', '', text)\n",
        "\n",
        "    #Remove URLs or links\n",
        "    text = re.sub(r'https?://\\S+|www\\.\\S+|<.*?>', '', text)\n",
        "\n",
        "    #Remove page numbers like 1/2, 2/3, etc.\n",
        "    text = re.sub(r'\\d+/\\d+', '', text)\n",
        "\n",
        "    #Remove file naming convention\n",
        "    text = re.sub(r'kb home', '', text)\n",
        "    text = re.sub(r'user troubleshooting', '', text)\n",
        "    text = re.sub(r'>', '', text)\n",
        "\n",
        "    #Remove everything after \"page owner\" pattern\n",
        "    page_owner_index = text.find('page owner')\n",
        "    if page_owner_index != -1:\n",
        "        text = text[:page_owner_index]\n",
        "\n",
        "    #Remove everything after \"page owner\" pattern\n",
        "    page_owner_index = text.find('changelog')\n",
        "    if page_owner_index != -1:\n",
        "        text = text[:page_owner_index]\n",
        "        \n",
        "    #Remove unwanted spaces\n",
        "    text = ' '.join(text.split())\n",
        "    #Handle new lines\n",
        "    text = text.replace('\\n', ' ')\n",
        "\n",
        "    #Remove everything after the last hashtag\n",
        "    last_hashtag_index = text.rfind('#')\n",
        "    if last_hashtag_index != -1:\n",
        "        text = text[:last_hashtag_index]\n",
        "\n",
        "    return text"
      ]
    },
    {
      "cell_type": "code",
      "execution_count": 26,
      "metadata": {
        "id": "xzQLrUpP3DV8"
      },
      "outputs": [],
      "source": [
        "# load raw documents\n",
        "documents = SimpleDirectoryReader(\"./data/\").load_data()\n",
        "\n",
        "# clean documents\n",
        "for doc in documents:\n",
        "    doc.set_content(clean_text2(doc.get_content()))"
      ]
    },
    {
      "cell_type": "markdown",
      "metadata": {},
      "source": [
        "## Manually checking every node in sample documents. "
      ]
    },
    {
      "cell_type": "code",
      "execution_count": 27,
      "metadata": {
        "colab": {
          "base_uri": "https://localhost:8080/",
          "height": 145
        },
        "id": "HWK8clOi3Pmf",
        "outputId": "0bacd9ce-3f6c-4f04-b124-2d6433e3c002"
      },
      "outputs": [
        {
          "data": {
            "text/plain": [
              "', audio or video on newer macs is choppy or freezing : audio or video on new er macs is choppy or freezing user t roubleshooting audio or video on newer macs is choppy or freezing this is an emer ging issue! so when y ou enc ounter it, pleas e mak e an extr a effort to discuss with the c o-pilot and c ollect det ails for the t alkmast er log if the user complains that their audio or video playback is: “choppy\" “stuttering” youtube video skips to the end without playing “freezing\" “glitching” “speeding up and slowing down” “crunchy sounding” or similar... then ask them: are you using a new er mac? (roughly speaking, released from 2020 onward) if yes, ask them to \" try unplugging the hdmi cable fr om y our lapt op\", then playing the video or audio again. if their video or audio plays back normally once the hdmi cable is unplugged, tell them: \" restar t your lapt op with the hdmi cable plugged in .\" this should make their video or audio play back properly. if instruct ors are unenthusiastic about this option because they don\\'t want to restart their laptop in the middle of a class, you can tell them: \"with macbook models from about 2020 onward, we have found that restarting your laptop almost always fixes this particular problem\"'"
            ]
          },
          "execution_count": 27,
          "metadata": {},
          "output_type": "execute_result"
        }
      ],
      "source": [
        "documents[0].get_content()"
      ]
    },
    {
      "cell_type": "code",
      "execution_count": 28,
      "metadata": {
        "colab": {
          "base_uri": "https://localhost:8080/",
          "height": 127
        },
        "id": "XXuUMbHh3Pmg",
        "outputId": "9013175d-7e56-46b3-9329-6ba84512a491"
      },
      "outputs": [
        {
          "data": {
            "text/plain": [
              "', audio or video on newer macs is choppy or freezing if they\\'re on a full-size or teal station: \"another option is to open your video or audio on the built-in r oom pc, then play it from there\" so far we\\'ve encountered this issue with: youtube videos embedded p owerp oint videos macs plugged directly into hdmi macs using a usb-c adapter we would lo ve to kno w mor e about: which model o f macbook ar e they using? what v ersion o f macos ar e they r unning? what br and o f hdmi adapt er are they using? some o f this info can be found b y asking them t o: go to the apple menu in the t op-lef t corner o f your lapt op screen select about this mac this should sho w the us er some info lik e: macos mont erey version 12.6.3 macbook pr o (13-inch, 2018, four thunderbolt 3 por ts) keywords: #macint osh #mac #mess ed #up #mo vie #audio #s ound #bzzzzzzz #dongle #recent #r ecently #pur chased #macbook #air #v entur a #mont erey #big #sur '"
            ]
          },
          "execution_count": 28,
          "metadata": {},
          "output_type": "execute_result"
        }
      ],
      "source": [
        "documents[1].get_content()"
      ]
    },
    {
      "cell_type": "code",
      "execution_count": 29,
      "metadata": {
        "colab": {
          "base_uri": "https://localhost:8080/",
          "height": 36
        },
        "id": "I1ahJAm23Pmh",
        "outputId": "d87dc067-94c6-40a5-a78e-59e321a921ec"
      },
      "outputs": [
        {
          "data": {
            "text/plain": [
              "', audio or video on newer macs is choppy or freezing #version #os #11 #12 #13 #new '"
            ]
          },
          "execution_count": 29,
          "metadata": {},
          "output_type": "execute_result"
        }
      ],
      "source": [
        "documents[2].get_content()"
      ]
    },
    {
      "cell_type": "code",
      "execution_count": 30,
      "metadata": {
        "colab": {
          "base_uri": "https://localhost:8080/",
          "height": 91
        },
        "id": "L5KlHY2js6H3",
        "outputId": "fad6106a-7ac6-4e7d-8a99-4753641ee069"
      },
      "outputs": [
        {
          "data": {
            "text/plain": [
              "', loud noise from speakers won’t stop : loud noise fr om speak ers won’t st op user t roubleshooting loud noise from speakers won\\'t stop if the user describes a loud, continuous noise that sounds lik e \"static\", “whit e noise” or “wind” , that means that the audio amp has blown. send a co-pilot to the room immediately 🚨 (typically , we cannot hear the nois e over the int ercom, becaus e it\\'s outside the audio frequency b and o f the int ercom) a temporar y fix, while they \\'re waiting for the co-pilot t o arrive the user can eliminate the noise themselves—temporarily—if they unplug the teaching s tation fr om its pow er outlet . but they will lose the intercom connection as well – and their projected image. k eyw or ds: #whoosh #oc ean #can \\'t #hear #nois y #typhoon '"
            ]
          },
          "execution_count": 30,
          "metadata": {},
          "output_type": "execute_result"
        }
      ],
      "source": [
        "documents[3].get_content()"
      ]
    },
    {
      "cell_type": "code",
      "execution_count": 31,
      "metadata": {
        "colab": {
          "base_uri": "https://localhost:8080/",
          "height": 36
        },
        "id": "aYJmp2cFs6wy",
        "outputId": "2a75a0f7-d33a-4256-f6a8-1f1d9e521ac4"
      },
      "outputs": [
        {
          "data": {
            "text/plain": [
              "', loud noise from speakers won’t stop proper ties verify after:'"
            ]
          },
          "execution_count": 31,
          "metadata": {},
          "output_type": "execute_result"
        }
      ],
      "source": [
        "documents[4].get_content()"
      ]
    },
    {
      "cell_type": "code",
      "execution_count": 32,
      "metadata": {
        "colab": {
          "base_uri": "https://localhost:8080/",
          "height": 109
        },
        "id": "NNLdJm-y6CIV",
        "outputId": "4d26d58e-a65d-4da2-99f6-2d82df5df2e8"
      },
      "outputs": [
        {
          "data": {
            "text/plain": [
              "\", no audio from source device on room speakers : no audio fr om sour ce device on r oom speak ers user t roubleshooting no audio from source device on room speakers questions on the touchscreen, is “sour ce audio ” unmut ed and turned up high enough? on the touchscreen, has the correct source been select ed & sent t o projector? on the source device's audio output settings , is crestron selected? are you using your own device, or using the built-in r oom pc? is it a zoom call that you want to be able to hear? has every stage of the audio signal path been unmuted and turned up to maximum? is it a jr station, tdm, tdp or viewbo ard? try searching t o-do to see if ther e are any kno wn issues with this r oom is it possible that the video or audio is just v ery quiet ? actions macos how to find out the user's version o f macos how to change the audio output on macos v entura (version 13) how to change the audio output on macos mont erey (version 12) / big sur (version 11) windows (including r oom pc) how to change the audio output on windows\""
            ]
          },
          "execution_count": 32,
          "metadata": {},
          "output_type": "execute_result"
        }
      ],
      "source": [
        "documents[5].get_content()"
      ]
    },
    {
      "cell_type": "code",
      "execution_count": 33,
      "metadata": {
        "colab": {
          "base_uri": "https://localhost:8080/",
          "height": 36
        },
        "id": "tHswKdii6CAy",
        "outputId": "05807086-5ea3-4167-9474-b5980fc8a9a7"
      },
      "outputs": [
        {
          "data": {
            "text/plain": [
              "', no audio from source device on room speakers questions on the t ouchscr een, is “sour ce audio ” unmut ed and turned up high enough? try turning it up quite high, in case the source audio happens to be extremely quiet on the t ouchscr een, has the corr ect sour ce been select ed & sent t o project or? because audio will only play over the in-room speaker system when the device you want to play has been sent to projector even if you\\'re just playing audio, you must hit \" send t o projector\" on the sour ce device \\'s audio output settings, is crestron select ed? depending on the room & the source device, this output might instead be called: hdmi np-p401w are you using y our own device, or using the built -in r oom pc ? if they\\'re using their own device, ask what operating system it uses and check whether their audio output settings ar e corr ect if they\\'re using the r oom pc, follow the instructions for changing the audio output settings on windows is it a zoom call that y ou want t o be able t o hear? if yes, then follow the troubleshooting instructions for zoom issues'"
            ]
          },
          "execution_count": 33,
          "metadata": {},
          "output_type": "execute_result"
        }
      ],
      "source": [
        "documents[6].get_content()"
      ]
    },
    {
      "cell_type": "code",
      "execution_count": 34,
      "metadata": {},
      "outputs": [
        {
          "data": {
            "text/plain": [
              "', no audio from source device on room speakers has ev ery stage o f the audio signal p ath been unmut ed and turned up t o maximum? have they unmuted and turned up the audio at every stage in the chain: the youtube int erface or browser tab or application where the audio is playing from? their device \\'s audio settings ? and on the touchscr een contr ols? is it a jr s tation, tdm, tdp or viewbo ard? make sure that you try turning up the push-butt on volume contr ols in these rooms. y ou may have to hit the buttons many times to hear any difference. works via both remote xpanel and in-room buttons the volume dial works in some rooms, but it tends to be less reliable than the buttons. sometimes you have to turn it many times to hear any difference. sometimes the in-room panel controls don\\'t work, but the room can be controlled remotely using the xpanel. so try that too. try searching t o-do to see if ther e are any kno wn issues with this r oom is there a known problem with the audio amp ? is there a known problem with the in-room speak ers? is there a temporar y speak er set up in the room? is it listed in r oom notes under \"audio volume in these rooms can only be controlled via...\"? you\\'ll see a note explaining how the 20+ jr station rooms on this list require you to send a technician to the room to adjust the audio lev el manually 🚨 it\\'s because these rooms have a signal path & crestron program that do not allow us to change the volume level with opening up the station. is it possible that the video or audio is just v ery quiet ?'"
            ]
          },
          "execution_count": 34,
          "metadata": {},
          "output_type": "execute_result"
        }
      ],
      "source": [
        "documents[7].get_content()"
      ]
    },
    {
      "cell_type": "code",
      "execution_count": 35,
      "metadata": {},
      "outputs": [
        {
          "data": {
            "text/plain": [
              "', no audio from source device on room speakers audio or video that is recorded on a phone or other per sonal device is \"unmastered,\" and therefore can be much quieter than the audio on a streaming service like y outube or a social media site like instagram or tikt ok if it turns out to be a personal video, send a co-pilot to the room to adjust the volume 🚨 it\\'s usually possible for co-pilots to physically adjust the volume of the audio amplifier actions macos how t o find out the user\\' s version o f macos \"at the top-left of your laptop screen, in the menu bar, click the apple icon , then select about this mac from the menu.\" \"in the window that pops up, it will say something like macos mont erey, version 12.6.3 . can you please read out to me what it says on your laptop?\" how t o change the audio output on macos v entura (v ersion 13) \"i\\'m going to read out some instructions for you to follow, to switch your computer\\'s output to the in-room speakers:\" at the top-left of your screen, in the menu bar, click the apple icon or, at the top-right of your screen in the menu bar, click the speak er icon and select \" crestron\", \"hdmi \", or \"np-p401w \" in the list of outputs select system settings on the left-hand side list of menus, find and click the sound icon under output in the sound menu, select \" crestron\", \"hdmi \", or \"np- p401w \" if they are using a y amaha videoconferencing soundbar, ask the user to change their laptop output to \" yamaha cs-700 \"'"
            ]
          },
          "execution_count": 35,
          "metadata": {},
          "output_type": "execute_result"
        }
      ],
      "source": [
        "documents[8].get_content()"
      ]
    },
    {
      "cell_type": "code",
      "execution_count": 36,
      "metadata": {},
      "outputs": [
        {
          "data": {
            "text/plain": [
              "', no audio from source device on room speakers macos v entura (v ersion 13) audio settings how t o change the audio output on macos mont erey (v ersion 12) / big sur (v ersion 11) \"i\\'m going to read out some instructions for you to follow, to switch your computer\\'s output to the in-room speakers:\" at the top-left of your screen, in the menu bar, click the apple icon or, at the top-right of your screen in the menu bar, click the speak er icon and select \" crestron\", \"hdmi \", or \"np-p401w \" in the list of outputs select system pr eferences find the sound icon , and select output select \" crestron\", \"hdmi \", or \"np-p401w \" if they are using a y amaha videoconferencing soundbar, ask the user to change their laptop output to \" yamaha cs-700 \"'"
            ]
          },
          "execution_count": 36,
          "metadata": {},
          "output_type": "execute_result"
        }
      ],
      "source": [
        "documents[9].get_content()"
      ]
    },
    {
      "cell_type": "code",
      "execution_count": 37,
      "metadata": {},
      "outputs": [
        {
          "data": {
            "text/plain": [
              "', no audio from source device on room speakers windows (including r oom pc) how t o change the audio output on windows \"i\\'m going to read out some instructions for you to follow, to switch your computer\\'s output to the in-room speakers:\" at the bottom right of your windows screen, in the taskbar, you\\'ll see a speak er icon . left-click on the speaker icon, and a horizont al volume control slider should appear. just above the volume control slider, you should now see some text with a small, upwar d-facing arr ow t o the r ight o f it. left-click on that text this should bring up a menu that says select playb ack device , with a list of options underneath it \"can you please read me the list of options that appear there?\" ask them to select \" crestron\" (or it might say \" hdmi \" or \" np-p401w \") if you\\'re not getting an option to change the speaker output to hdmi/crestron, try: un-plugging and r e-plugging the hdmi cable or adapter from the computer restar ting the laptop confirm whether this worked by playing some video or audio from the computer.'"
            ]
          },
          "execution_count": 37,
          "metadata": {},
          "output_type": "execute_result"
        }
      ],
      "source": [
        "documents[10].get_content()"
      ]
    },
    {
      "cell_type": "code",
      "execution_count": 38,
      "metadata": {},
      "outputs": [
        {
          "data": {
            "text/plain": [
              "\", no audio from source device on room speakers keywords: #can 't #hear #silent #not #w orking #s ystem #quiet #br oken #o ff #speak er #system #st ereo #v olume #dial \""
            ]
          },
          "execution_count": 38,
          "metadata": {},
          "output_type": "execute_result"
        }
      ],
      "source": [
        "documents[11].get_content()"
      ]
    },
    {
      "cell_type": "code",
      "execution_count": 39,
      "metadata": {},
      "outputs": [
        {
          "data": {
            "text/plain": [
              "', no audio from source device on room speakers added zoom as a question (because users often don\\'t mention it\\'s zoom they\\'re having trouble with) ian s wain updated to new model template/2023 ian s wain crafted some easy- to-follow bullets for the windows section. plus added \"room pc\" to the name of that section (we;ve been receiving a steady flow of calls where the r oom pc\\'s audio output has changed) ian s wain'"
            ]
          },
          "execution_count": 39,
          "metadata": {},
          "output_type": "execute_result"
        }
      ],
      "source": [
        "documents[12].get_content()"
      ]
    },
    {
      "cell_type": "code",
      "execution_count": 40,
      "metadata": {},
      "outputs": [
        {
          "data": {
            "text/plain": [
              "', wireless lav microphone not working : wireless lav micr ophone not w orking user t roubleshooting wireless lav microphone not working before trying to resolve an issue with the wireless lav microphone, determine which of the two models we use is installed in the room: shure slx1 – uses aa batteries shure glxd4 - uses proprietary rechargeable batteries to look up which rooms use which models, visit the wireless lav list . note: h5, j3, and l4 are all different varieties of slx1. wireless lav mic t ypes cont ents possible solutions:'"
            ]
          },
          "execution_count": 40,
          "metadata": {},
          "output_type": "execute_result"
        }
      ],
      "source": [
        "documents[13].get_content()"
      ]
    },
    {
      "cell_type": "code",
      "execution_count": 41,
      "metadata": {},
      "outputs": [
        {
          "data": {
            "text/plain": [
              "', wireless lav microphone not working is the wireless microphone source unmuted and is the volume turned up on the crestron touchscreen? is the wireless belt pack turned on and unmuted? is the gain switch on the wireless unit set to “mic” and are all lav microphone components in working order? slx1 only: is the gain switch set to “mic”? is the lav microphone cable connected to the transmitter unit? send a co-pilot to investigate further possible solutions: is the wir eless micr ophone sour ce unmut ed and is the volume turned up on the cr estron touchscr een? guide the user through unmuting the wireless microphone source on the crestron touchscreen and adjusting the volume. the wireless microphone source can also be controlled remotely using roomview. is the wir eless lav belt p ack turned on and unmut ed? ask the user what colour the light is on the top of the unit to make sure the microphone is operating normally.crestron touchscreen volume controls'"
            ]
          },
          "execution_count": 41,
          "metadata": {},
          "output_type": "execute_result"
        }
      ],
      "source": [
        "documents[14].get_content()"
      ]
    },
    {
      "cell_type": "code",
      "execution_count": 42,
      "metadata": {},
      "outputs": [
        {
          "data": {
            "text/plain": [
              "', wireless lav microphone not working wireless lav mic indicat or lights green indicates the wireless mic unit is turned on & unmuted. no colour ed light indicates the wireless mic unit is probably turned off. t o turn it on: slx1 : hold the power/mute button until the light turns on. glxd4 : flip the power switch to the on position as labeled on the microphone. turning on the wir eless lav mics amber slx1 : indicates the unit is muted. the wireless lav microphone can be unmuted by pressing the power/mute button on the unit once. glxd4 : indicates a battery error. the battery needs to be replaced. steady red indicates the unit is low battery. suggest a change of batteries.'"
            ]
          },
          "execution_count": 42,
          "metadata": {},
          "output_type": "execute_result"
        }
      ],
      "source": [
        "documents[15].get_content()"
      ]
    },
    {
      "cell_type": "code",
      "execution_count": 43,
      "metadata": {},
      "outputs": [
        {
          "data": {
            "text/plain": [
              "', wireless lav microphone not working slx1 : spare aa batteries may be located in the microphone pouch or the little microphone cabinet. glxd4 : a replacement rechargeable battery is in the charging unit (if installed in the teaching station) located beside the room pc and/or in the microphone receiver. send a co-pilot if the microphone receiver needs to be accessed. which rooms have charging units is noted in the wireless lav list . flashing red indicates the battery is dead. if there aren’t any spare aa batteries in the microphone pouch or located in the podium microphone cabinet, send a co-pilot. is the gain swit ch on the wir eless unit set t o “mic” and ar e all lav micr ophone components in w orking or der? slx1 only: is the swit ch on the wir eless belt p ack set t o “mic”? on the side of the wireless belt pack that you wear, there should be a small switch that says \"minus-10, zer o, mic\" . this switch sets the volume range for the wireless mic. please mak e sur e that it\\' s set t o “mic” – otherwise the audio level will be so quiet that you won\\'t be able to hear it. slx1 gain s witch is the lav micr ophone cable connect ed to the transmitt er unit ? ask the user to disconnect the lav microphone cable from the transmitter unit and reconnect it, ensuring a tight connection.'"
            ]
          },
          "execution_count": 43,
          "metadata": {},
          "output_type": "execute_result"
        }
      ],
      "source": [
        "documents[16].get_content()"
      ]
    },
    {
      "cell_type": "code",
      "execution_count": 44,
      "metadata": {},
      "outputs": [
        {
          "data": {
            "text/plain": [
              "', wireless lav microphone not working send a co-pilot t o inv estigat e fur ther 🚨 if none of the above solutions resolve the issue, it’s time to call for reinforcements. there may be an issue that can only be resolved in-person by a co-pilot: transmitter and receiver are out of sync receiver gain turned down receiver turned off receiver disconnected from crestron controller other audio cabling issues if the co-pilot provides an update on and/or resolution for the issue, note it in the outcome column of the t alkmaster log. k eyw or ds: #sound #belt #p ack #clip #tr ansmitt er #unit #wless #wir eless #por table '"
            ]
          },
          "execution_count": 44,
          "metadata": {},
          "output_type": "execute_result"
        }
      ],
      "source": [
        "documents[17].get_content()"
      ]
    },
    {
      "cell_type": "code",
      "execution_count": 46,
      "metadata": {},
      "outputs": [
        {
          "data": {
            "text/plain": [
              "', wireless lav microphone not working verify after:'"
            ]
          },
          "execution_count": 46,
          "metadata": {},
          "output_type": "execute_result"
        }
      ],
      "source": [
        "documents[18].get_content()"
      ]
    },
    {
      "cell_type": "code",
      "execution_count": null,
      "metadata": {},
      "outputs": [],
      "source": []
    }
  ],
  "metadata": {
    "colab": {
      "provenance": []
    },
    "kernelspec": {
      "display_name": "Python 3",
      "name": "python3"
    },
    "language_info": {
      "codemirror_mode": {
        "name": "ipython",
        "version": 3
      },
      "file_extension": ".py",
      "mimetype": "text/x-python",
      "name": "python",
      "nbconvert_exporter": "python",
      "pygments_lexer": "ipython3",
      "version": "3.10.11"
    }
  },
  "nbformat": 4,
  "nbformat_minor": 0
}
