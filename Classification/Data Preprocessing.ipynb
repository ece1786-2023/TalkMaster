{
 "cells": [
  {
   "cell_type": "code",
   "execution_count": 2,
   "id": "54adf61b",
   "metadata": {},
   "outputs": [],
   "source": [
    "import pandas as pd\n"
   ]
  },
  {
   "cell_type": "code",
   "execution_count": 20,
   "id": "213430c0",
   "metadata": {
    "scrolled": false
   },
   "outputs": [
    {
     "data": {
      "text/html": [
       "<div>\n",
       "<style scoped>\n",
       "    .dataframe tbody tr th:only-of-type {\n",
       "        vertical-align: middle;\n",
       "    }\n",
       "\n",
       "    .dataframe tbody tr th {\n",
       "        vertical-align: top;\n",
       "    }\n",
       "\n",
       "    .dataframe thead th {\n",
       "        text-align: right;\n",
       "    }\n",
       "</style>\n",
       "<table border=\"1\" class=\"dataframe\">\n",
       "  <thead>\n",
       "    <tr style=\"text-align: right;\">\n",
       "      <th></th>\n",
       "      <th>Received from:</th>\n",
       "      <th>Description of problem</th>\n",
       "      <th>Requires further investigation to resolve?</th>\n",
       "      <th>Sent staff to room?</th>\n",
       "    </tr>\n",
       "  </thead>\n",
       "  <tbody>\n",
       "    <tr>\n",
       "      <th>1</th>\n",
       "      <td>OI 8170</td>\n",
       "      <td>jr. station enable request from kyle</td>\n",
       "      <td>0</td>\n",
       "      <td>0</td>\n",
       "    </tr>\n",
       "    <tr>\n",
       "      <th>2</th>\n",
       "      <td>BA 1180</td>\n",
       "      <td>wanted to know if his log in would work. it did.</td>\n",
       "      <td>0</td>\n",
       "      <td>0</td>\n",
       "    </tr>\n",
       "    <tr>\n",
       "      <th>3</th>\n",
       "      <td>UC 85</td>\n",
       "      <td>log in request</td>\n",
       "      <td>0</td>\n",
       "      <td>0</td>\n",
       "    </tr>\n",
       "    <tr>\n",
       "      <th>4</th>\n",
       "      <td>BA 1170</td>\n",
       "      <td>accident</td>\n",
       "      <td>0</td>\n",
       "      <td>0</td>\n",
       "    </tr>\n",
       "    <tr>\n",
       "      <th>5</th>\n",
       "      <td>ES 4001</td>\n",
       "      <td>mike showing prof how intercom works</td>\n",
       "      <td>0</td>\n",
       "      <td>0</td>\n",
       "    </tr>\n",
       "  </tbody>\n",
       "</table>\n",
       "</div>"
      ],
      "text/plain": [
       "  Received from:                            Description of problem  \\\n",
       "1        OI 8170              jr. station enable request from kyle   \n",
       "2        BA 1180  wanted to know if his log in would work. it did.   \n",
       "3          UC 85                                    log in request   \n",
       "4        BA 1170                                          accident   \n",
       "5        ES 4001              mike showing prof how intercom works   \n",
       "\n",
       "  Requires further investigation to resolve? Sent staff to room?  \n",
       "1                                          0                   0  \n",
       "2                                          0                   0  \n",
       "3                                          0                   0  \n",
       "4                                          0                   0  \n",
       "5                                          0                   0  "
      ]
     },
     "execution_count": 20,
     "metadata": {},
     "output_type": "execute_result"
    }
   ],
   "source": [
    "df=pd.read_excel(\"C:/Users/Ruchita/Desktop/MEng_ECE/Fall 23/Creative applications of NLP/Project/Github/TalkMaster/Data/logs/Winter23_logs.xlsx\").drop(0)\n",
    "df['Sent staff to room?']=df['Sent staff to room?'].fillna('0')\n",
    "df['Requires further investigation to resolve?']=df['Requires further investigation to resolve?'].fillna('0')\n",
    "df=df.drop(['Time','Outcome'], axis=1)\n",
    "df['Description of problem']=df['Description of problem'].str.lower()\n",
    "df.head()"
   ]
  },
  {
   "cell_type": "code",
   "execution_count": 21,
   "id": "17aaa083",
   "metadata": {},
   "outputs": [],
   "source": [
    "patterns =[ r'accident', r'mistake', r'no response', r'false alarm', r'duty']\n",
    "for pattern in patterns:\n",
    "    condition = df['Description of problem'].str.contains(pattern, regex=True) & ~df['Description of problem'].isna()\n",
    "    df = df[~condition]"
   ]
  },
  {
   "cell_type": "code",
   "execution_count": 22,
   "id": "87d5ca33",
   "metadata": {},
   "outputs": [],
   "source": [
    "df = df.dropna(subset=['Description of problem'])"
   ]
  },
  {
   "cell_type": "code",
   "execution_count": 23,
   "id": "843d7a75",
   "metadata": {
    "scrolled": true
   },
   "outputs": [
    {
     "data": {
      "text/html": [
       "<div>\n",
       "<style scoped>\n",
       "    .dataframe tbody tr th:only-of-type {\n",
       "        vertical-align: middle;\n",
       "    }\n",
       "\n",
       "    .dataframe tbody tr th {\n",
       "        vertical-align: top;\n",
       "    }\n",
       "\n",
       "    .dataframe thead th {\n",
       "        text-align: right;\n",
       "    }\n",
       "</style>\n",
       "<table border=\"1\" class=\"dataframe\">\n",
       "  <thead>\n",
       "    <tr style=\"text-align: right;\">\n",
       "      <th></th>\n",
       "      <th>Received from:</th>\n",
       "      <th>Description of problem</th>\n",
       "      <th>Requires further investigation to resolve?</th>\n",
       "      <th>Sent staff to room?</th>\n",
       "    </tr>\n",
       "  </thead>\n",
       "  <tbody>\n",
       "    <tr>\n",
       "      <th>count</th>\n",
       "      <td>4424</td>\n",
       "      <td>4442</td>\n",
       "      <td>4442</td>\n",
       "      <td>4442</td>\n",
       "    </tr>\n",
       "    <tr>\n",
       "      <th>unique</th>\n",
       "      <td>340</td>\n",
       "      <td>3062</td>\n",
       "      <td>5</td>\n",
       "      <td>3</td>\n",
       "    </tr>\n",
       "    <tr>\n",
       "      <th>top</th>\n",
       "      <td>MR 6</td>\n",
       "      <td>login</td>\n",
       "      <td>0</td>\n",
       "      <td>0</td>\n",
       "    </tr>\n",
       "    <tr>\n",
       "      <th>freq</th>\n",
       "      <td>70</td>\n",
       "      <td>126</td>\n",
       "      <td>4069</td>\n",
       "      <td>3114</td>\n",
       "    </tr>\n",
       "  </tbody>\n",
       "</table>\n",
       "</div>"
      ],
      "text/plain": [
       "       Received from: Description of problem  \\\n",
       "count            4424                   4442   \n",
       "unique            340                   3062   \n",
       "top              MR 6                  login   \n",
       "freq               70                    126   \n",
       "\n",
       "       Requires further investigation to resolve? Sent staff to room?  \n",
       "count                                        4442                4442  \n",
       "unique                                          5                   3  \n",
       "top                                             0                   0  \n",
       "freq                                         4069                3114  "
      ]
     },
     "execution_count": 23,
     "metadata": {},
     "output_type": "execute_result"
    }
   ],
   "source": [
    "df.describe()"
   ]
  },
  {
   "cell_type": "code",
   "execution_count": 24,
   "id": "e44b95d2",
   "metadata": {},
   "outputs": [],
   "source": [
    "df.to_csv(\"C:/Users/Ruchita/Desktop/MEng_ECE/Fall 23/Creative applications of NLP/Project/Github/TalkMaster/Data/logs/cleaned_winter_data.csv\", index=False)"
   ]
  },
  {
   "cell_type": "code",
   "execution_count": 25,
   "id": "917ef626",
   "metadata": {},
   "outputs": [
    {
     "data": {
      "text/plain": [
       "Sent staff to room?\n",
       "0    3114\n",
       "1    1326\n",
       "        2\n",
       "Name: count, dtype: int64"
      ]
     },
     "execution_count": 25,
     "metadata": {},
     "output_type": "execute_result"
    }
   ],
   "source": [
    "df['Sent staff to room?'].value_counts()"
   ]
  },
  {
   "cell_type": "code",
   "execution_count": null,
   "id": "2aa0138d",
   "metadata": {},
   "outputs": [],
   "source": []
  }
 ],
 "metadata": {
  "kernelspec": {
   "display_name": "Python 3 (ipykernel)",
   "language": "python",
   "name": "python3"
  },
  "language_info": {
   "codemirror_mode": {
    "name": "ipython",
    "version": 3
   },
   "file_extension": ".py",
   "mimetype": "text/x-python",
   "name": "python",
   "nbconvert_exporter": "python",
   "pygments_lexer": "ipython3",
   "version": "3.10.13"
  }
 },
 "nbformat": 4,
 "nbformat_minor": 5
}
